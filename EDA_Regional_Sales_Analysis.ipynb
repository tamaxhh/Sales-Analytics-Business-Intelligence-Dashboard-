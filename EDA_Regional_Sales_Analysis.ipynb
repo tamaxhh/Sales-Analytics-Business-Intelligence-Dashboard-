{
  "cells": [
    {
      "cell_type": "markdown",
      "metadata": {
        "id": "vzdeUDs99pIv"
      },
      "source": [
        "# **Project Name**    - USA Regional Sales Analysis"
      ]
    },
    {
      "cell_type": "markdown",
      "metadata": {
        "id": "C3OIIuNe9pCa"
      },
      "source": [
        "## 🗂️ **Project Summary**  \n"
      ]
    },
    {
      "cell_type": "markdown",
      "metadata": {
        "id": "rsaP5CvO9pFZ"
      },
      "source": [
        "This EDA notebook dives into Acme Co.’s 2014–2018 USA sales dataset through:\n",
        "\n",
        "Data Profiling & Cleaning: Verified schema, handled missing budgets, and corrected data types.\n",
        "\n",
        "Univariate & Bivariate Analysis: Explored distributions (revenue, margin, unit price), product/channel/region breakdowns, and customer segments.\n",
        "\n",
        "Trend & Seasonality: Charted monthly and yearly sales patterns, highlighting recurring surges and dips.\n",
        "\n",
        "Outlier Detection: Identified extreme transactions at both ends of the revenue and unit-price spectra.\n",
        "\n",
        "Correlation & Segmentation: Assessed relationships between key metrics and clustered customers by revenue vs. profit margin."
      ]
    },
    {
      "cell_type": "markdown",
      "metadata": {
        "id": "nbO5GECJAW8n"
      },
      "source": [
        "## ❓ **Problem Statement**  "
      ]
    },
    {
      "cell_type": "markdown",
      "metadata": {
        "id": "UugBVnheAKeY"
      },
      "source": [
        "Analyze Acme Co.’s 2014–2018 sales data to identify key revenue and profit drivers across products, channels, and regions; uncover seasonal trends and outliers; and align performance against budgets. Use these insights to optimize pricing, promotions, and market expansion for sustainable growth and reduced concentration risk."
      ]
    },
    {
      "cell_type": "markdown",
      "metadata": {
        "id": "lJLxjQfYefC2"
      },
      "source": [
        "## 🎯 **Objective**"
      ]
    },
    {
      "cell_type": "markdown",
      "metadata": {
        "id": "EYe2_yCvetWs"
      },
      "source": [
        "Deliver actionable insights from Acme Co.’s 2014–2018 sales data to:\n",
        "\n",
        "- Identify top-performing products, channels, and regions driving revenue and profit  \n",
        "- Uncover seasonal trends and anomalies for optimized planning  \n",
        "- Spot pricing and margin risks from outlier transactions  \n",
        "- Inform pricing, promotion, and market-expansion strategies  \n",
        "\n",
        "These findings will guide the design of a Power BI dashboard to support strategic decision-making and sustainable growth."
      ]
    },
    {
      "cell_type": "markdown",
      "metadata": {
        "id": "zX81JsXmAKg7"
      },
      "source": [
        "# **📥 Setup & Configuration**"
      ]
    },
    {
      "cell_type": "code",
      "execution_count": 31,
      "metadata": {
        "id": "6DEayeRSuRFb"
      },
      "outputs": [],
      "source": [
        "# 📘 1. IMPORT LIBRARIES\n",
        "\n",
        "# Data handling\n",
        "import pandas as pd\n",
        "import numpy as np\n",
        "\n",
        "# Visualization\n",
        "import matplotlib.pyplot as plt\n",
        "import seaborn as sns\n",
        "pd.set_option('display.max_columns', None)"
      ]
    },
    {
      "cell_type": "markdown",
      "metadata": {
        "id": "hlDdH23WAKkD"
      },
      "source": [
        "# **🔄 Data Ingestion**"
      ]
    },
    {
      "cell_type": "code",
      "execution_count": 64,
      "metadata": {
        "colab": {
          "base_uri": "https://localhost:8080/"
        },
        "id": "l10f0vvguegn",
        "outputId": "67ea94b8-a9d5-4871-a25b-d71c6dc72ea3"
      },
      "outputs": [],
      "source": [
        "#  2. LOAD DATA\n",
        "\n",
        "# Read all sheets at once\n",
        "sheets = pd.read_excel(r\"C:\\Users\\anxaa\\Sales_Analysis_End_to_End_Project\\Regional Sales Dataset.xlsx\", sheet_name=None)\n",
        "\n",
        "# Assign to named DataFrames\n",
        "df_sales       = sheets['Sales Orders']\n",
        "df_customers   = sheets['Customers']\n",
        "df_products    = sheets['Products']\n",
        "df_regions     = sheets['Regions']\n",
        "df_state_reg   = sheets['State Regions']"
      ]
    },
    {
      "cell_type": "markdown",
      "metadata": {
        "id": "QLPeZW8jA3fu"
      },
      "source": [
        "# **🔍 Data Profiling / Initial Inspection**"
      ]
    },
    {
      "cell_type": "code",
      "execution_count": 65,
      "metadata": {
        "colab": {
          "base_uri": "https://localhost:8080/"
        },
        "id": "GYRdXHJSFPXB",
        "outputId": "523650be-b315-4530-fed5-25ffcf6e82c4"
      },
      "outputs": [
        {
          "name": "stdout",
          "output_type": "stream",
          "text": [
            "df_sales      shape: (64104, 12)      # Sales Orders\n",
            "df_customers  shape: (175, 2)  # Customers\n",
            "df_products   shape: (30, 2)   # Products\n",
            "df_regions    shape: (994, 15)    # Regions\n",
            "df_state_reg  shape: (49, 3)  # State Regions\n"
          ]
        }
      ],
      "source": [
        "# 🔍 2.1 QUICK SHAPE OVERVIEW\n",
        "print(f\"df_sales      shape: {df_sales.shape}      # Sales Orders\")\n",
        "print(f\"df_customers  shape: {df_customers.shape}  # Customers\")\n",
        "print(f\"df_products   shape: {df_products.shape}   # Products\")\n",
        "print(f\"df_regions    shape: {df_regions.shape}    # Regions\")\n",
        "print(f\"df_state_reg  shape: {df_state_reg.shape}  # State Regions\")"
      ]
    },
    {
      "cell_type": "code",
      "execution_count": 66,
      "metadata": {
        "colab": {
          "base_uri": "https://localhost:8080/",
          "height": 0
        },
        "id": "1077phctwcrN",
        "outputId": "1fe8039c-57a2-4604-c6a6-d9ccffd7291b"
      },
      "outputs": [
        {
          "data": {
            "text/html": [
              "<div>\n",
              "<style scoped>\n",
              "    .dataframe tbody tr th:only-of-type {\n",
              "        vertical-align: middle;\n",
              "    }\n",
              "\n",
              "    .dataframe tbody tr th {\n",
              "        vertical-align: top;\n",
              "    }\n",
              "\n",
              "    .dataframe thead th {\n",
              "        text-align: right;\n",
              "    }\n",
              "</style>\n",
              "<table border=\"1\" class=\"dataframe\">\n",
              "  <thead>\n",
              "    <tr style=\"text-align: right;\">\n",
              "      <th></th>\n",
              "      <th>OrderNumber</th>\n",
              "      <th>OrderDate</th>\n",
              "      <th>Customer Name Index</th>\n",
              "      <th>Channel</th>\n",
              "      <th>Currency Code</th>\n",
              "      <th>Warehouse Code</th>\n",
              "      <th>Delivery Region Index</th>\n",
              "      <th>Product Description Index</th>\n",
              "      <th>Order Quantity</th>\n",
              "      <th>Unit Price</th>\n",
              "      <th>Line Total</th>\n",
              "      <th>Total Unit Cost</th>\n",
              "    </tr>\n",
              "  </thead>\n",
              "  <tbody>\n",
              "    <tr>\n",
              "      <th>0</th>\n",
              "      <td>SO - 000225</td>\n",
              "      <td>2014-01-01</td>\n",
              "      <td>126</td>\n",
              "      <td>Wholesale</td>\n",
              "      <td>USD</td>\n",
              "      <td>AXW291</td>\n",
              "      <td>364</td>\n",
              "      <td>27</td>\n",
              "      <td>6</td>\n",
              "      <td>2499.1</td>\n",
              "      <td>14994.6</td>\n",
              "      <td>1824.343</td>\n",
              "    </tr>\n",
              "    <tr>\n",
              "      <th>1</th>\n",
              "      <td>SO - 0003378</td>\n",
              "      <td>2014-01-01</td>\n",
              "      <td>96</td>\n",
              "      <td>Distributor</td>\n",
              "      <td>USD</td>\n",
              "      <td>AXW291</td>\n",
              "      <td>488</td>\n",
              "      <td>20</td>\n",
              "      <td>11</td>\n",
              "      <td>2351.7</td>\n",
              "      <td>25868.7</td>\n",
              "      <td>1269.918</td>\n",
              "    </tr>\n",
              "    <tr>\n",
              "      <th>2</th>\n",
              "      <td>SO - 0005126</td>\n",
              "      <td>2014-01-01</td>\n",
              "      <td>8</td>\n",
              "      <td>Wholesale</td>\n",
              "      <td>USD</td>\n",
              "      <td>AXW291</td>\n",
              "      <td>155</td>\n",
              "      <td>26</td>\n",
              "      <td>6</td>\n",
              "      <td>978.2</td>\n",
              "      <td>5869.2</td>\n",
              "      <td>684.740</td>\n",
              "    </tr>\n",
              "    <tr>\n",
              "      <th>3</th>\n",
              "      <td>SO - 0005614</td>\n",
              "      <td>2014-01-01</td>\n",
              "      <td>42</td>\n",
              "      <td>Export</td>\n",
              "      <td>USD</td>\n",
              "      <td>AXW291</td>\n",
              "      <td>473</td>\n",
              "      <td>7</td>\n",
              "      <td>7</td>\n",
              "      <td>2338.3</td>\n",
              "      <td>16368.1</td>\n",
              "      <td>1028.852</td>\n",
              "    </tr>\n",
              "    <tr>\n",
              "      <th>4</th>\n",
              "      <td>SO - 0005781</td>\n",
              "      <td>2014-01-01</td>\n",
              "      <td>73</td>\n",
              "      <td>Wholesale</td>\n",
              "      <td>USD</td>\n",
              "      <td>AXW291</td>\n",
              "      <td>256</td>\n",
              "      <td>8</td>\n",
              "      <td>8</td>\n",
              "      <td>2291.4</td>\n",
              "      <td>18331.2</td>\n",
              "      <td>1260.270</td>\n",
              "    </tr>\n",
              "  </tbody>\n",
              "</table>\n",
              "</div>"
            ],
            "text/plain": [
              "    OrderNumber  OrderDate  Customer Name Index      Channel Currency Code  \\\n",
              "0   SO - 000225 2014-01-01                  126    Wholesale           USD   \n",
              "1  SO - 0003378 2014-01-01                   96  Distributor           USD   \n",
              "2  SO - 0005126 2014-01-01                    8    Wholesale           USD   \n",
              "3  SO - 0005614 2014-01-01                   42       Export           USD   \n",
              "4  SO - 0005781 2014-01-01                   73    Wholesale           USD   \n",
              "\n",
              "  Warehouse Code  Delivery Region Index  Product Description Index  \\\n",
              "0         AXW291                    364                         27   \n",
              "1         AXW291                    488                         20   \n",
              "2         AXW291                    155                         26   \n",
              "3         AXW291                    473                          7   \n",
              "4         AXW291                    256                          8   \n",
              "\n",
              "   Order Quantity  Unit Price  Line Total  Total Unit Cost  \n",
              "0               6      2499.1     14994.6         1824.343  \n",
              "1              11      2351.7     25868.7         1269.918  \n",
              "2               6       978.2      5869.2          684.740  \n",
              "3               7      2338.3     16368.1         1028.852  \n",
              "4               8      2291.4     18331.2         1260.270  "
            ]
          },
          "execution_count": 66,
          "metadata": {},
          "output_type": "execute_result"
        }
      ],
      "source": [
        "# 🔍 3. DATA EXPLORATION / OVERVIEW\n",
        "\n",
        "# 3.1 Quick look\n",
        "\n",
        "df_sales.head()"
      ]
    },
    {
      "cell_type": "code",
      "execution_count": 67,
      "metadata": {
        "colab": {
          "base_uri": "https://localhost:8080/",
          "height": 0
        },
        "id": "90UhIgK8fqFP",
        "outputId": "e2abefee-110d-49fd-cd62-504ea107e65f"
      },
      "outputs": [
        {
          "name": "stdout",
          "output_type": "stream",
          "text": [
            "\n",
            "— df_sales head —\n"
          ]
        },
        {
          "data": {
            "text/html": [
              "<div>\n",
              "<style scoped>\n",
              "    .dataframe tbody tr th:only-of-type {\n",
              "        vertical-align: middle;\n",
              "    }\n",
              "\n",
              "    .dataframe tbody tr th {\n",
              "        vertical-align: top;\n",
              "    }\n",
              "\n",
              "    .dataframe thead th {\n",
              "        text-align: right;\n",
              "    }\n",
              "</style>\n",
              "<table border=\"1\" class=\"dataframe\">\n",
              "  <thead>\n",
              "    <tr style=\"text-align: right;\">\n",
              "      <th></th>\n",
              "      <th>OrderNumber</th>\n",
              "      <th>OrderDate</th>\n",
              "      <th>Customer Name Index</th>\n",
              "      <th>Channel</th>\n",
              "      <th>Currency Code</th>\n",
              "      <th>Warehouse Code</th>\n",
              "      <th>Delivery Region Index</th>\n",
              "      <th>Product Description Index</th>\n",
              "      <th>Order Quantity</th>\n",
              "      <th>Unit Price</th>\n",
              "      <th>Line Total</th>\n",
              "      <th>Total Unit Cost</th>\n",
              "    </tr>\n",
              "  </thead>\n",
              "  <tbody>\n",
              "    <tr>\n",
              "      <th>0</th>\n",
              "      <td>SO - 000225</td>\n",
              "      <td>2014-01-01</td>\n",
              "      <td>126</td>\n",
              "      <td>Wholesale</td>\n",
              "      <td>USD</td>\n",
              "      <td>AXW291</td>\n",
              "      <td>364</td>\n",
              "      <td>27</td>\n",
              "      <td>6</td>\n",
              "      <td>2499.1</td>\n",
              "      <td>14994.6</td>\n",
              "      <td>1824.343</td>\n",
              "    </tr>\n",
              "    <tr>\n",
              "      <th>1</th>\n",
              "      <td>SO - 0003378</td>\n",
              "      <td>2014-01-01</td>\n",
              "      <td>96</td>\n",
              "      <td>Distributor</td>\n",
              "      <td>USD</td>\n",
              "      <td>AXW291</td>\n",
              "      <td>488</td>\n",
              "      <td>20</td>\n",
              "      <td>11</td>\n",
              "      <td>2351.7</td>\n",
              "      <td>25868.7</td>\n",
              "      <td>1269.918</td>\n",
              "    </tr>\n",
              "    <tr>\n",
              "      <th>2</th>\n",
              "      <td>SO - 0005126</td>\n",
              "      <td>2014-01-01</td>\n",
              "      <td>8</td>\n",
              "      <td>Wholesale</td>\n",
              "      <td>USD</td>\n",
              "      <td>AXW291</td>\n",
              "      <td>155</td>\n",
              "      <td>26</td>\n",
              "      <td>6</td>\n",
              "      <td>978.2</td>\n",
              "      <td>5869.2</td>\n",
              "      <td>684.740</td>\n",
              "    </tr>\n",
              "    <tr>\n",
              "      <th>3</th>\n",
              "      <td>SO - 0005614</td>\n",
              "      <td>2014-01-01</td>\n",
              "      <td>42</td>\n",
              "      <td>Export</td>\n",
              "      <td>USD</td>\n",
              "      <td>AXW291</td>\n",
              "      <td>473</td>\n",
              "      <td>7</td>\n",
              "      <td>7</td>\n",
              "      <td>2338.3</td>\n",
              "      <td>16368.1</td>\n",
              "      <td>1028.852</td>\n",
              "    </tr>\n",
              "    <tr>\n",
              "      <th>4</th>\n",
              "      <td>SO - 0005781</td>\n",
              "      <td>2014-01-01</td>\n",
              "      <td>73</td>\n",
              "      <td>Wholesale</td>\n",
              "      <td>USD</td>\n",
              "      <td>AXW291</td>\n",
              "      <td>256</td>\n",
              "      <td>8</td>\n",
              "      <td>8</td>\n",
              "      <td>2291.4</td>\n",
              "      <td>18331.2</td>\n",
              "      <td>1260.270</td>\n",
              "    </tr>\n",
              "  </tbody>\n",
              "</table>\n",
              "</div>"
            ],
            "text/plain": [
              "    OrderNumber  OrderDate  Customer Name Index      Channel Currency Code  \\\n",
              "0   SO - 000225 2014-01-01                  126    Wholesale           USD   \n",
              "1  SO - 0003378 2014-01-01                   96  Distributor           USD   \n",
              "2  SO - 0005126 2014-01-01                    8    Wholesale           USD   \n",
              "3  SO - 0005614 2014-01-01                   42       Export           USD   \n",
              "4  SO - 0005781 2014-01-01                   73    Wholesale           USD   \n",
              "\n",
              "  Warehouse Code  Delivery Region Index  Product Description Index  \\\n",
              "0         AXW291                    364                         27   \n",
              "1         AXW291                    488                         20   \n",
              "2         AXW291                    155                         26   \n",
              "3         AXW291                    473                          7   \n",
              "4         AXW291                    256                          8   \n",
              "\n",
              "   Order Quantity  Unit Price  Line Total  Total Unit Cost  \n",
              "0               6      2499.1     14994.6         1824.343  \n",
              "1              11      2351.7     25868.7         1269.918  \n",
              "2               6       978.2      5869.2          684.740  \n",
              "3               7      2338.3     16368.1         1028.852  \n",
              "4               8      2291.4     18331.2         1260.270  "
            ]
          },
          "metadata": {},
          "output_type": "display_data"
        },
        {
          "name": "stdout",
          "output_type": "stream",
          "text": [
            "\n",
            "\n",
            "— df_customers head —\n"
          ]
        },
        {
          "data": {
            "text/html": [
              "<div>\n",
              "<style scoped>\n",
              "    .dataframe tbody tr th:only-of-type {\n",
              "        vertical-align: middle;\n",
              "    }\n",
              "\n",
              "    .dataframe tbody tr th {\n",
              "        vertical-align: top;\n",
              "    }\n",
              "\n",
              "    .dataframe thead th {\n",
              "        text-align: right;\n",
              "    }\n",
              "</style>\n",
              "<table border=\"1\" class=\"dataframe\">\n",
              "  <thead>\n",
              "    <tr style=\"text-align: right;\">\n",
              "      <th></th>\n",
              "      <th>Customer Index</th>\n",
              "      <th>Customer Names</th>\n",
              "    </tr>\n",
              "  </thead>\n",
              "  <tbody>\n",
              "    <tr>\n",
              "      <th>0</th>\n",
              "      <td>1</td>\n",
              "      <td>Geiss Company</td>\n",
              "    </tr>\n",
              "    <tr>\n",
              "      <th>1</th>\n",
              "      <td>2</td>\n",
              "      <td>Jaxbean Group</td>\n",
              "    </tr>\n",
              "    <tr>\n",
              "      <th>2</th>\n",
              "      <td>3</td>\n",
              "      <td>Ascend Ltd</td>\n",
              "    </tr>\n",
              "    <tr>\n",
              "      <th>3</th>\n",
              "      <td>4</td>\n",
              "      <td>Eire Corp</td>\n",
              "    </tr>\n",
              "    <tr>\n",
              "      <th>4</th>\n",
              "      <td>5</td>\n",
              "      <td>Blogtags Ltd</td>\n",
              "    </tr>\n",
              "  </tbody>\n",
              "</table>\n",
              "</div>"
            ],
            "text/plain": [
              "   Customer Index Customer Names\n",
              "0               1  Geiss Company\n",
              "1               2  Jaxbean Group\n",
              "2               3     Ascend Ltd\n",
              "3               4      Eire Corp\n",
              "4               5   Blogtags Ltd"
            ]
          },
          "metadata": {},
          "output_type": "display_data"
        },
        {
          "name": "stdout",
          "output_type": "stream",
          "text": [
            "\n",
            "\n",
            "— df_products head —\n"
          ]
        },
        {
          "data": {
            "text/html": [
              "<div>\n",
              "<style scoped>\n",
              "    .dataframe tbody tr th:only-of-type {\n",
              "        vertical-align: middle;\n",
              "    }\n",
              "\n",
              "    .dataframe tbody tr th {\n",
              "        vertical-align: top;\n",
              "    }\n",
              "\n",
              "    .dataframe thead th {\n",
              "        text-align: right;\n",
              "    }\n",
              "</style>\n",
              "<table border=\"1\" class=\"dataframe\">\n",
              "  <thead>\n",
              "    <tr style=\"text-align: right;\">\n",
              "      <th></th>\n",
              "      <th>Index</th>\n",
              "      <th>Product Name</th>\n",
              "    </tr>\n",
              "  </thead>\n",
              "  <tbody>\n",
              "    <tr>\n",
              "      <th>0</th>\n",
              "      <td>1</td>\n",
              "      <td>Product 1</td>\n",
              "    </tr>\n",
              "    <tr>\n",
              "      <th>1</th>\n",
              "      <td>2</td>\n",
              "      <td>Product 2</td>\n",
              "    </tr>\n",
              "    <tr>\n",
              "      <th>2</th>\n",
              "      <td>3</td>\n",
              "      <td>Product 3</td>\n",
              "    </tr>\n",
              "    <tr>\n",
              "      <th>3</th>\n",
              "      <td>4</td>\n",
              "      <td>Product 4</td>\n",
              "    </tr>\n",
              "    <tr>\n",
              "      <th>4</th>\n",
              "      <td>5</td>\n",
              "      <td>Product 5</td>\n",
              "    </tr>\n",
              "  </tbody>\n",
              "</table>\n",
              "</div>"
            ],
            "text/plain": [
              "   Index Product Name\n",
              "0      1    Product 1\n",
              "1      2    Product 2\n",
              "2      3    Product 3\n",
              "3      4    Product 4\n",
              "4      5    Product 5"
            ]
          },
          "metadata": {},
          "output_type": "display_data"
        },
        {
          "name": "stdout",
          "output_type": "stream",
          "text": [
            "\n",
            "\n",
            "— df_regions head —\n"
          ]
        },
        {
          "data": {
            "text/html": [
              "<div>\n",
              "<style scoped>\n",
              "    .dataframe tbody tr th:only-of-type {\n",
              "        vertical-align: middle;\n",
              "    }\n",
              "\n",
              "    .dataframe tbody tr th {\n",
              "        vertical-align: top;\n",
              "    }\n",
              "\n",
              "    .dataframe thead th {\n",
              "        text-align: right;\n",
              "    }\n",
              "</style>\n",
              "<table border=\"1\" class=\"dataframe\">\n",
              "  <thead>\n",
              "    <tr style=\"text-align: right;\">\n",
              "      <th></th>\n",
              "      <th>id</th>\n",
              "      <th>name</th>\n",
              "      <th>county</th>\n",
              "      <th>state_code</th>\n",
              "      <th>state</th>\n",
              "      <th>type</th>\n",
              "      <th>latitude</th>\n",
              "      <th>longitude</th>\n",
              "      <th>area_code</th>\n",
              "      <th>population</th>\n",
              "      <th>households</th>\n",
              "      <th>median_income</th>\n",
              "      <th>land_area</th>\n",
              "      <th>water_area</th>\n",
              "      <th>time_zone</th>\n",
              "    </tr>\n",
              "  </thead>\n",
              "  <tbody>\n",
              "    <tr>\n",
              "      <th>0</th>\n",
              "      <td>1</td>\n",
              "      <td>Auburn</td>\n",
              "      <td>Lee County</td>\n",
              "      <td>AL</td>\n",
              "      <td>Alabama</td>\n",
              "      <td>City</td>\n",
              "      <td>32.60986</td>\n",
              "      <td>-85.48078</td>\n",
              "      <td>334</td>\n",
              "      <td>62059</td>\n",
              "      <td>21767</td>\n",
              "      <td>38342</td>\n",
              "      <td>152375113</td>\n",
              "      <td>2646161</td>\n",
              "      <td>America/Chicago</td>\n",
              "    </tr>\n",
              "    <tr>\n",
              "      <th>1</th>\n",
              "      <td>2</td>\n",
              "      <td>Birmingham</td>\n",
              "      <td>Shelby County/Jefferson County</td>\n",
              "      <td>AL</td>\n",
              "      <td>Alabama</td>\n",
              "      <td>City</td>\n",
              "      <td>33.52744</td>\n",
              "      <td>-86.79905</td>\n",
              "      <td>205</td>\n",
              "      <td>212461</td>\n",
              "      <td>89972</td>\n",
              "      <td>31061</td>\n",
              "      <td>378353942</td>\n",
              "      <td>6591013</td>\n",
              "      <td>America/Chicago</td>\n",
              "    </tr>\n",
              "    <tr>\n",
              "      <th>2</th>\n",
              "      <td>3</td>\n",
              "      <td>Decatur</td>\n",
              "      <td>Limestone County/Morgan County</td>\n",
              "      <td>AL</td>\n",
              "      <td>Alabama</td>\n",
              "      <td>City</td>\n",
              "      <td>34.57332</td>\n",
              "      <td>-86.99214</td>\n",
              "      <td>256</td>\n",
              "      <td>55437</td>\n",
              "      <td>22294</td>\n",
              "      <td>41496</td>\n",
              "      <td>141006257</td>\n",
              "      <td>17594716</td>\n",
              "      <td>America/Chicago</td>\n",
              "    </tr>\n",
              "    <tr>\n",
              "      <th>3</th>\n",
              "      <td>4</td>\n",
              "      <td>Dothan</td>\n",
              "      <td>Dale County/Houston County/Henry County</td>\n",
              "      <td>AL</td>\n",
              "      <td>Alabama</td>\n",
              "      <td>City</td>\n",
              "      <td>31.23370</td>\n",
              "      <td>-85.40682</td>\n",
              "      <td>334</td>\n",
              "      <td>68567</td>\n",
              "      <td>25913</td>\n",
              "      <td>42426</td>\n",
              "      <td>232166237</td>\n",
              "      <td>835468</td>\n",
              "      <td>America/Chicago</td>\n",
              "    </tr>\n",
              "    <tr>\n",
              "      <th>4</th>\n",
              "      <td>5</td>\n",
              "      <td>Hoover</td>\n",
              "      <td>Shelby County/Jefferson County</td>\n",
              "      <td>AL</td>\n",
              "      <td>Alabama</td>\n",
              "      <td>City</td>\n",
              "      <td>33.37695</td>\n",
              "      <td>-86.80558</td>\n",
              "      <td>205</td>\n",
              "      <td>84848</td>\n",
              "      <td>32789</td>\n",
              "      <td>77146</td>\n",
              "      <td>122016784</td>\n",
              "      <td>2553332</td>\n",
              "      <td>America/Chicago</td>\n",
              "    </tr>\n",
              "  </tbody>\n",
              "</table>\n",
              "</div>"
            ],
            "text/plain": [
              "   id        name                                   county state_code  \\\n",
              "0   1      Auburn                               Lee County         AL   \n",
              "1   2  Birmingham           Shelby County/Jefferson County         AL   \n",
              "2   3     Decatur           Limestone County/Morgan County         AL   \n",
              "3   4      Dothan  Dale County/Houston County/Henry County         AL   \n",
              "4   5      Hoover           Shelby County/Jefferson County         AL   \n",
              "\n",
              "     state  type  latitude  longitude  area_code  population  households  \\\n",
              "0  Alabama  City  32.60986  -85.48078        334       62059       21767   \n",
              "1  Alabama  City  33.52744  -86.79905        205      212461       89972   \n",
              "2  Alabama  City  34.57332  -86.99214        256       55437       22294   \n",
              "3  Alabama  City  31.23370  -85.40682        334       68567       25913   \n",
              "4  Alabama  City  33.37695  -86.80558        205       84848       32789   \n",
              "\n",
              "   median_income  land_area  water_area        time_zone  \n",
              "0          38342  152375113     2646161  America/Chicago  \n",
              "1          31061  378353942     6591013  America/Chicago  \n",
              "2          41496  141006257    17594716  America/Chicago  \n",
              "3          42426  232166237      835468  America/Chicago  \n",
              "4          77146  122016784     2553332  America/Chicago  "
            ]
          },
          "metadata": {},
          "output_type": "display_data"
        },
        {
          "name": "stdout",
          "output_type": "stream",
          "text": [
            "\n",
            "\n",
            "— df_state_reg head —\n"
          ]
        },
        {
          "data": {
            "text/html": [
              "<div>\n",
              "<style scoped>\n",
              "    .dataframe tbody tr th:only-of-type {\n",
              "        vertical-align: middle;\n",
              "    }\n",
              "\n",
              "    .dataframe tbody tr th {\n",
              "        vertical-align: top;\n",
              "    }\n",
              "\n",
              "    .dataframe thead th {\n",
              "        text-align: right;\n",
              "    }\n",
              "</style>\n",
              "<table border=\"1\" class=\"dataframe\">\n",
              "  <thead>\n",
              "    <tr style=\"text-align: right;\">\n",
              "      <th></th>\n",
              "      <th>Column1</th>\n",
              "      <th>Column2</th>\n",
              "      <th>Column3</th>\n",
              "    </tr>\n",
              "  </thead>\n",
              "  <tbody>\n",
              "    <tr>\n",
              "      <th>0</th>\n",
              "      <td>State Code</td>\n",
              "      <td>State</td>\n",
              "      <td>Region</td>\n",
              "    </tr>\n",
              "    <tr>\n",
              "      <th>1</th>\n",
              "      <td>AL</td>\n",
              "      <td>Alabama</td>\n",
              "      <td>South</td>\n",
              "    </tr>\n",
              "    <tr>\n",
              "      <th>2</th>\n",
              "      <td>AR</td>\n",
              "      <td>Arkansas</td>\n",
              "      <td>South</td>\n",
              "    </tr>\n",
              "    <tr>\n",
              "      <th>3</th>\n",
              "      <td>AZ</td>\n",
              "      <td>Arizona</td>\n",
              "      <td>West</td>\n",
              "    </tr>\n",
              "    <tr>\n",
              "      <th>4</th>\n",
              "      <td>CA</td>\n",
              "      <td>California</td>\n",
              "      <td>West</td>\n",
              "    </tr>\n",
              "  </tbody>\n",
              "</table>\n",
              "</div>"
            ],
            "text/plain": [
              "      Column1     Column2 Column3\n",
              "0  State Code       State  Region\n",
              "1          AL     Alabama   South\n",
              "2          AR    Arkansas   South\n",
              "3          AZ     Arizona    West\n",
              "4          CA  California    West"
            ]
          },
          "metadata": {},
          "output_type": "display_data"
        },
        {
          "name": "stdout",
          "output_type": "stream",
          "text": [
            "\n"
          ]
        }
      ],
      "source": [
        "# 🔍 2.x — QUICK VIEW OF ALL RAW DATAFRAMES\n",
        "# -----------------------------------------\n",
        "# Print first few rows for each sheet\n",
        "\n",
        "print(\"\\n— df_sales head —\")\n",
        "display(df_sales.head())\n",
        "print()\n",
        "\n",
        "print(\"\\n— df_customers head —\")\n",
        "display(df_customers.head())\n",
        "print()\n",
        "\n",
        "print(\"\\n— df_products head —\")\n",
        "display(df_products.head())\n",
        "print()\n",
        "\n",
        "print(\"\\n— df_regions head —\")\n",
        "display(df_regions.head())\n",
        "print()\n",
        "\n",
        "print(\"\\n— df_state_reg head —\")\n",
        "display(df_state_reg.head())\n",
        "print()\n",
        "\n"
      ]
    },
    {
      "cell_type": "code",
      "execution_count": 68,
      "metadata": {
        "id": "Mjw4QVhgENA4"
      },
      "outputs": [],
      "source": [
        "# The first row of df_state_reg contains the real column names.\n",
        "new_header        = df_state_reg.iloc[0]      # grab the first row\n",
        "df_state_reg.columns = new_header             # set columns\n",
        "df_state_reg       = df_state_reg[1:].reset_index(drop=True)  # drop header row and reset"
      ]
    },
    {
      "cell_type": "code",
      "execution_count": 69,
      "metadata": {
        "colab": {
          "base_uri": "https://localhost:8080/",
          "height": 0
        },
        "id": "faUHPu_YF1W3",
        "outputId": "62bd4a2d-817d-41e2-ad39-794482ff01a0"
      },
      "outputs": [
        {
          "data": {
            "text/plain": [
              "OrderNumber                  0\n",
              "OrderDate                    0\n",
              "Customer Name Index          0\n",
              "Channel                      0\n",
              "Currency Code                0\n",
              "Warehouse Code               0\n",
              "Delivery Region Index        0\n",
              "Product Description Index    0\n",
              "Order Quantity               0\n",
              "Unit Price                   0\n",
              "Line Total                   0\n",
              "Total Unit Cost              0\n",
              "dtype: int64"
            ]
          },
          "execution_count": 69,
          "metadata": {},
          "output_type": "execute_result"
        }
      ],
      "source": [
        "df_sales.isnull().sum()"
      ]
    },
    {
      "cell_type": "code",
      "execution_count": 70,
      "metadata": {
        "colab": {
          "base_uri": "https://localhost:8080/"
        },
        "id": "2Vf5jiIQGMQ-",
        "outputId": "a32cdfc8-fbda-4a72-f6bf-78663a025a93"
      },
      "outputs": [
        {
          "data": {
            "text/plain": [
              "True"
            ]
          },
          "execution_count": 70,
          "metadata": {},
          "output_type": "execute_result"
        }
      ],
      "source": [
        "# Checking duplicate values\n",
        "len(df_sales) == len(df_sales.drop_duplicates())"
      ]
    },
    {
      "cell_type": "markdown",
      "metadata": {
        "id": "UvYDZXyzBB78"
      },
      "source": [
        "# *🧹 Data Cleaning & Wrangling*"
      ]
    },
    {
      "cell_type": "code",
      "execution_count": 71,
      "metadata": {
        "colab": {
          "base_uri": "https://localhost:8080/",
          "height": 377
        },
        "id": "EFxE89FV4WQ_",
        "outputId": "655e8815-bf93-4f5c-d267-351db27e53a9"
      },
      "outputs": [
        {
          "data": {
            "text/html": [
              "<div>\n",
              "<style scoped>\n",
              "    .dataframe tbody tr th:only-of-type {\n",
              "        vertical-align: middle;\n",
              "    }\n",
              "\n",
              "    .dataframe tbody tr th {\n",
              "        vertical-align: top;\n",
              "    }\n",
              "\n",
              "    .dataframe thead th {\n",
              "        text-align: right;\n",
              "    }\n",
              "</style>\n",
              "<table border=\"1\" class=\"dataframe\">\n",
              "  <thead>\n",
              "    <tr style=\"text-align: right;\">\n",
              "      <th></th>\n",
              "      <th>OrderNumber</th>\n",
              "      <th>OrderDate</th>\n",
              "      <th>Customer Name Index</th>\n",
              "      <th>Channel</th>\n",
              "      <th>Currency Code</th>\n",
              "      <th>Warehouse Code</th>\n",
              "      <th>Delivery Region Index</th>\n",
              "      <th>Product Description Index</th>\n",
              "      <th>Order Quantity</th>\n",
              "      <th>Unit Price</th>\n",
              "      <th>Line Total</th>\n",
              "      <th>Total Unit Cost</th>\n",
              "      <th>Customer Names</th>\n",
              "      <th>Product Name</th>\n",
              "      <th>name</th>\n",
              "      <th>county</th>\n",
              "      <th>state_code</th>\n",
              "      <th>state</th>\n",
              "      <th>type</th>\n",
              "      <th>latitude</th>\n",
              "      <th>longitude</th>\n",
              "      <th>area_code</th>\n",
              "      <th>population</th>\n",
              "      <th>households</th>\n",
              "      <th>median_income</th>\n",
              "      <th>land_area</th>\n",
              "      <th>water_area</th>\n",
              "      <th>time_zone</th>\n",
              "      <th>Region</th>\n",
              "    </tr>\n",
              "  </thead>\n",
              "  <tbody>\n",
              "    <tr>\n",
              "      <th>0</th>\n",
              "      <td>SO - 000225</td>\n",
              "      <td>2014-01-01</td>\n",
              "      <td>126</td>\n",
              "      <td>Wholesale</td>\n",
              "      <td>USD</td>\n",
              "      <td>AXW291</td>\n",
              "      <td>364</td>\n",
              "      <td>27</td>\n",
              "      <td>6</td>\n",
              "      <td>2499.1</td>\n",
              "      <td>14994.6</td>\n",
              "      <td>1824.343</td>\n",
              "      <td>Rhynoodle Ltd</td>\n",
              "      <td>Product 27</td>\n",
              "      <td>Savannah</td>\n",
              "      <td>Chatham County</td>\n",
              "      <td>GA</td>\n",
              "      <td>Georgia</td>\n",
              "      <td>City</td>\n",
              "      <td>32.08354</td>\n",
              "      <td>-81.09983</td>\n",
              "      <td>912</td>\n",
              "      <td>145674</td>\n",
              "      <td>52798</td>\n",
              "      <td>36466</td>\n",
              "      <td>268318796</td>\n",
              "      <td>13908113</td>\n",
              "      <td>America/New York</td>\n",
              "      <td>South</td>\n",
              "    </tr>\n",
              "    <tr>\n",
              "      <th>1</th>\n",
              "      <td>SO - 0003378</td>\n",
              "      <td>2014-01-01</td>\n",
              "      <td>96</td>\n",
              "      <td>Distributor</td>\n",
              "      <td>USD</td>\n",
              "      <td>AXW291</td>\n",
              "      <td>488</td>\n",
              "      <td>20</td>\n",
              "      <td>11</td>\n",
              "      <td>2351.7</td>\n",
              "      <td>25868.7</td>\n",
              "      <td>1269.918</td>\n",
              "      <td>Thoughtmix Ltd</td>\n",
              "      <td>Product 20</td>\n",
              "      <td>Greenwood</td>\n",
              "      <td>Johnson County</td>\n",
              "      <td>IN</td>\n",
              "      <td>Indiana</td>\n",
              "      <td>City</td>\n",
              "      <td>39.61366</td>\n",
              "      <td>-86.10665</td>\n",
              "      <td>317</td>\n",
              "      <td>55586</td>\n",
              "      <td>20975</td>\n",
              "      <td>54176</td>\n",
              "      <td>72276415</td>\n",
              "      <td>1883</td>\n",
              "      <td>America/Indiana/Indianapolis</td>\n",
              "      <td>Midwest</td>\n",
              "    </tr>\n",
              "    <tr>\n",
              "      <th>2</th>\n",
              "      <td>SO - 0005126</td>\n",
              "      <td>2014-01-01</td>\n",
              "      <td>8</td>\n",
              "      <td>Wholesale</td>\n",
              "      <td>USD</td>\n",
              "      <td>AXW291</td>\n",
              "      <td>155</td>\n",
              "      <td>26</td>\n",
              "      <td>6</td>\n",
              "      <td>978.2</td>\n",
              "      <td>5869.2</td>\n",
              "      <td>684.740</td>\n",
              "      <td>Amerisourc Corp</td>\n",
              "      <td>Product 26</td>\n",
              "      <td>Pleasanton</td>\n",
              "      <td>Alameda County</td>\n",
              "      <td>CA</td>\n",
              "      <td>California</td>\n",
              "      <td>City</td>\n",
              "      <td>37.66243</td>\n",
              "      <td>-121.87468</td>\n",
              "      <td>925</td>\n",
              "      <td>79510</td>\n",
              "      <td>26020</td>\n",
              "      <td>124759</td>\n",
              "      <td>62489257</td>\n",
              "      <td>386195</td>\n",
              "      <td>America/Los Angeles</td>\n",
              "      <td>West</td>\n",
              "    </tr>\n",
              "    <tr>\n",
              "      <th>3</th>\n",
              "      <td>SO - 0005614</td>\n",
              "      <td>2014-01-01</td>\n",
              "      <td>42</td>\n",
              "      <td>Export</td>\n",
              "      <td>USD</td>\n",
              "      <td>AXW291</td>\n",
              "      <td>473</td>\n",
              "      <td>7</td>\n",
              "      <td>7</td>\n",
              "      <td>2338.3</td>\n",
              "      <td>16368.1</td>\n",
              "      <td>1028.852</td>\n",
              "      <td>Colgate-Pa Group</td>\n",
              "      <td>Product 7</td>\n",
              "      <td>Bloomington</td>\n",
              "      <td>Monroe County</td>\n",
              "      <td>IN</td>\n",
              "      <td>Indiana</td>\n",
              "      <td>City</td>\n",
              "      <td>39.16533</td>\n",
              "      <td>-86.52639</td>\n",
              "      <td>812</td>\n",
              "      <td>84067</td>\n",
              "      <td>30232</td>\n",
              "      <td>30019</td>\n",
              "      <td>60221613</td>\n",
              "      <td>475857</td>\n",
              "      <td>America/Indiana/Indianapolis</td>\n",
              "      <td>Midwest</td>\n",
              "    </tr>\n",
              "    <tr>\n",
              "      <th>4</th>\n",
              "      <td>SO - 0005781</td>\n",
              "      <td>2014-01-01</td>\n",
              "      <td>73</td>\n",
              "      <td>Wholesale</td>\n",
              "      <td>USD</td>\n",
              "      <td>AXW291</td>\n",
              "      <td>256</td>\n",
              "      <td>8</td>\n",
              "      <td>8</td>\n",
              "      <td>2291.4</td>\n",
              "      <td>18331.2</td>\n",
              "      <td>1260.270</td>\n",
              "      <td>Deseret Group</td>\n",
              "      <td>Product 8</td>\n",
              "      <td>Manchester</td>\n",
              "      <td>Hartford County</td>\n",
              "      <td>CT</td>\n",
              "      <td>Connecticut</td>\n",
              "      <td>Town</td>\n",
              "      <td>41.77524</td>\n",
              "      <td>-72.52443</td>\n",
              "      <td>959</td>\n",
              "      <td>58007</td>\n",
              "      <td>24141</td>\n",
              "      <td>63158</td>\n",
              "      <td>70972793</td>\n",
              "      <td>720300</td>\n",
              "      <td>America/New York</td>\n",
              "      <td>Northeast</td>\n",
              "    </tr>\n",
              "  </tbody>\n",
              "</table>\n",
              "</div>"
            ],
            "text/plain": [
              "    OrderNumber  OrderDate  Customer Name Index      Channel Currency Code  \\\n",
              "0   SO - 000225 2014-01-01                  126    Wholesale           USD   \n",
              "1  SO - 0003378 2014-01-01                   96  Distributor           USD   \n",
              "2  SO - 0005126 2014-01-01                    8    Wholesale           USD   \n",
              "3  SO - 0005614 2014-01-01                   42       Export           USD   \n",
              "4  SO - 0005781 2014-01-01                   73    Wholesale           USD   \n",
              "\n",
              "  Warehouse Code  Delivery Region Index  Product Description Index  \\\n",
              "0         AXW291                    364                         27   \n",
              "1         AXW291                    488                         20   \n",
              "2         AXW291                    155                         26   \n",
              "3         AXW291                    473                          7   \n",
              "4         AXW291                    256                          8   \n",
              "\n",
              "   Order Quantity  Unit Price  Line Total  Total Unit Cost    Customer Names  \\\n",
              "0               6      2499.1     14994.6         1824.343     Rhynoodle Ltd   \n",
              "1              11      2351.7     25868.7         1269.918    Thoughtmix Ltd   \n",
              "2               6       978.2      5869.2          684.740   Amerisourc Corp   \n",
              "3               7      2338.3     16368.1         1028.852  Colgate-Pa Group   \n",
              "4               8      2291.4     18331.2         1260.270     Deseret Group   \n",
              "\n",
              "  Product Name         name           county state_code        state  type  \\\n",
              "0   Product 27     Savannah   Chatham County         GA      Georgia  City   \n",
              "1   Product 20    Greenwood   Johnson County         IN      Indiana  City   \n",
              "2   Product 26   Pleasanton   Alameda County         CA   California  City   \n",
              "3    Product 7  Bloomington    Monroe County         IN      Indiana  City   \n",
              "4    Product 8   Manchester  Hartford County         CT  Connecticut  Town   \n",
              "\n",
              "   latitude  longitude  area_code  population  households  median_income  \\\n",
              "0  32.08354  -81.09983        912      145674       52798          36466   \n",
              "1  39.61366  -86.10665        317       55586       20975          54176   \n",
              "2  37.66243 -121.87468        925       79510       26020         124759   \n",
              "3  39.16533  -86.52639        812       84067       30232          30019   \n",
              "4  41.77524  -72.52443        959       58007       24141          63158   \n",
              "\n",
              "   land_area  water_area                     time_zone     Region  \n",
              "0  268318796    13908113              America/New York      South  \n",
              "1   72276415        1883  America/Indiana/Indianapolis    Midwest  \n",
              "2   62489257      386195           America/Los Angeles       West  \n",
              "3   60221613      475857  America/Indiana/Indianapolis    Midwest  \n",
              "4   70972793      720300              America/New York  Northeast  "
            ]
          },
          "execution_count": 71,
          "metadata": {},
          "output_type": "execute_result"
        }
      ],
      "source": [
        "# 🔧 4. DATA WRANGLING & MERGING\n",
        "\n",
        "# 4.1 Merge with Customers\n",
        "df = df_sales.merge(\n",
        "    df_customers,\n",
        "    how='left',\n",
        "    left_on='Customer Name Index',\n",
        "    right_on='Customer Index'\n",
        ")\n",
        "\n",
        "# 4.2 Merge with Products\n",
        "df = df.merge(\n",
        "    df_products,\n",
        "    how='left',\n",
        "    left_on='Product Description Index',\n",
        "    right_on='Index'\n",
        ")\n",
        "\n",
        "# 4.3 Merge with Regions\n",
        "df = df.merge(\n",
        "    df_regions,\n",
        "    how='left',\n",
        "    left_on='Delivery Region Index',\n",
        "    right_on='id'\n",
        ")\n",
        "\n",
        "# 4.4 Merge with State Regions\n",
        "df = df.merge(\n",
        "    df_state_reg[[\"State Code\",\"Region\"]],\n",
        "    how='left',\n",
        "    left_on='state_code',\n",
        "    right_on='State Code'\n",
        ")\n",
        "\n",
        "\n",
        "# 4.6 Clean up redundant columns\n",
        "cols_to_drop = [\n",
        "    'Customer Index', 'Index', 'id', 'State Code',\n",
        "    # add any auto-generated cols you don't need\n",
        "]\n",
        "df = df.drop(columns=cols_to_drop, errors='ignore')\n",
        "\n",
        "df.head()"
      ]
    },
    {
      "cell_type": "code",
      "execution_count": 72,
      "metadata": {
        "colab": {
          "base_uri": "https://localhost:8080/"
        },
        "id": "89u0VF36Xxeo",
        "outputId": "ce0f87a9-3040-4b20-f6e2-89c98ee1968e"
      },
      "outputs": [
        {
          "data": {
            "text/plain": [
              "array(['ordernumber', 'orderdate', 'customer name index', 'channel',\n",
              "       'currency code', 'warehouse code', 'delivery region index',\n",
              "       'product description index', 'order quantity', 'unit price',\n",
              "       'line total', 'total unit cost', 'customer names', 'product name',\n",
              "       'name', 'county', 'state_code', 'state', 'type', 'latitude',\n",
              "       'longitude', 'area_code', 'population', 'households',\n",
              "       'median_income', 'land_area', 'water_area', 'time_zone', 'region'],\n",
              "      dtype=object)"
            ]
          },
          "execution_count": 72,
          "metadata": {},
          "output_type": "execute_result"
        }
      ],
      "source": [
        "# Convert all column names to lowercase for consistency and easier access\n",
        "df.columns = df.columns.str.lower()\n",
        "\n",
        "# Display the updated list of column names\n",
        "df.columns.values"
      ]
    },
    {
      "cell_type": "code",
      "execution_count": 74,
      "metadata": {
        "colab": {
          "base_uri": "https://localhost:8080/",
          "height": 206
        },
        "id": "l_Xwfm1LlDvb",
        "outputId": "3d39efa9-7e5f-429a-998e-27b42a725d29"
      },
      "outputs": [
        {
          "data": {
            "text/html": [
              "<div>\n",
              "<style scoped>\n",
              "    .dataframe tbody tr th:only-of-type {\n",
              "        vertical-align: middle;\n",
              "    }\n",
              "\n",
              "    .dataframe tbody tr th {\n",
              "        vertical-align: top;\n",
              "    }\n",
              "\n",
              "    .dataframe thead th {\n",
              "        text-align: right;\n",
              "    }\n",
              "</style>\n",
              "<table border=\"1\" class=\"dataframe\">\n",
              "  <thead>\n",
              "    <tr style=\"text-align: right;\">\n",
              "      <th></th>\n",
              "      <th>order_number</th>\n",
              "      <th>order_date</th>\n",
              "      <th>customer_name</th>\n",
              "      <th>channel</th>\n",
              "      <th>product_name</th>\n",
              "      <th>quantity</th>\n",
              "      <th>unit_price</th>\n",
              "      <th>revenue</th>\n",
              "      <th>cost</th>\n",
              "      <th>state</th>\n",
              "      <th>state_name</th>\n",
              "      <th>us_region</th>\n",
              "      <th>lat</th>\n",
              "      <th>lon</th>\n",
              "    </tr>\n",
              "  </thead>\n",
              "  <tbody>\n",
              "    <tr>\n",
              "      <th>0</th>\n",
              "      <td>SO - 000225</td>\n",
              "      <td>2014-01-01</td>\n",
              "      <td>Rhynoodle Ltd</td>\n",
              "      <td>Wholesale</td>\n",
              "      <td>Product 27</td>\n",
              "      <td>6</td>\n",
              "      <td>2499.1</td>\n",
              "      <td>14994.6</td>\n",
              "      <td>1824.343</td>\n",
              "      <td>GA</td>\n",
              "      <td>Georgia</td>\n",
              "      <td>South</td>\n",
              "      <td>32.08354</td>\n",
              "      <td>-81.09983</td>\n",
              "    </tr>\n",
              "    <tr>\n",
              "      <th>1</th>\n",
              "      <td>SO - 0003378</td>\n",
              "      <td>2014-01-01</td>\n",
              "      <td>Thoughtmix Ltd</td>\n",
              "      <td>Distributor</td>\n",
              "      <td>Product 20</td>\n",
              "      <td>11</td>\n",
              "      <td>2351.7</td>\n",
              "      <td>25868.7</td>\n",
              "      <td>1269.918</td>\n",
              "      <td>IN</td>\n",
              "      <td>Indiana</td>\n",
              "      <td>Midwest</td>\n",
              "      <td>39.61366</td>\n",
              "      <td>-86.10665</td>\n",
              "    </tr>\n",
              "    <tr>\n",
              "      <th>2</th>\n",
              "      <td>SO - 0005126</td>\n",
              "      <td>2014-01-01</td>\n",
              "      <td>Amerisourc Corp</td>\n",
              "      <td>Wholesale</td>\n",
              "      <td>Product 26</td>\n",
              "      <td>6</td>\n",
              "      <td>978.2</td>\n",
              "      <td>5869.2</td>\n",
              "      <td>684.740</td>\n",
              "      <td>CA</td>\n",
              "      <td>California</td>\n",
              "      <td>West</td>\n",
              "      <td>37.66243</td>\n",
              "      <td>-121.87468</td>\n",
              "    </tr>\n",
              "    <tr>\n",
              "      <th>3</th>\n",
              "      <td>SO - 0005614</td>\n",
              "      <td>2014-01-01</td>\n",
              "      <td>Colgate-Pa Group</td>\n",
              "      <td>Export</td>\n",
              "      <td>Product 7</td>\n",
              "      <td>7</td>\n",
              "      <td>2338.3</td>\n",
              "      <td>16368.1</td>\n",
              "      <td>1028.852</td>\n",
              "      <td>IN</td>\n",
              "      <td>Indiana</td>\n",
              "      <td>Midwest</td>\n",
              "      <td>39.16533</td>\n",
              "      <td>-86.52639</td>\n",
              "    </tr>\n",
              "    <tr>\n",
              "      <th>4</th>\n",
              "      <td>SO - 0005781</td>\n",
              "      <td>2014-01-01</td>\n",
              "      <td>Deseret Group</td>\n",
              "      <td>Wholesale</td>\n",
              "      <td>Product 8</td>\n",
              "      <td>8</td>\n",
              "      <td>2291.4</td>\n",
              "      <td>18331.2</td>\n",
              "      <td>1260.270</td>\n",
              "      <td>CT</td>\n",
              "      <td>Connecticut</td>\n",
              "      <td>Northeast</td>\n",
              "      <td>41.77524</td>\n",
              "      <td>-72.52443</td>\n",
              "    </tr>\n",
              "  </tbody>\n",
              "</table>\n",
              "</div>"
            ],
            "text/plain": [
              "   order_number order_date     customer_name      channel product_name  \\\n",
              "0   SO - 000225 2014-01-01     Rhynoodle Ltd    Wholesale   Product 27   \n",
              "1  SO - 0003378 2014-01-01    Thoughtmix Ltd  Distributor   Product 20   \n",
              "2  SO - 0005126 2014-01-01   Amerisourc Corp    Wholesale   Product 26   \n",
              "3  SO - 0005614 2014-01-01  Colgate-Pa Group       Export    Product 7   \n",
              "4  SO - 0005781 2014-01-01     Deseret Group    Wholesale    Product 8   \n",
              "\n",
              "   quantity  unit_price  revenue      cost state   state_name  us_region  \\\n",
              "0         6      2499.1  14994.6  1824.343    GA      Georgia      South   \n",
              "1        11      2351.7  25868.7  1269.918    IN      Indiana    Midwest   \n",
              "2         6       978.2   5869.2   684.740    CA   California       West   \n",
              "3         7      2338.3  16368.1  1028.852    IN      Indiana    Midwest   \n",
              "4         8      2291.4  18331.2  1260.270    CT  Connecticut  Northeast   \n",
              "\n",
              "        lat        lon  \n",
              "0  32.08354  -81.09983  \n",
              "1  39.61366  -86.10665  \n",
              "2  37.66243 -121.87468  \n",
              "3  39.16533  -86.52639  \n",
              "4  41.77524  -72.52443  "
            ]
          },
          "execution_count": 74,
          "metadata": {},
          "output_type": "execute_result"
        }
      ],
      "source": [
        "# 4.x — DROP UNNECESSARY COLUMNS & RENAME FOR CLARITY (with Region)\n",
        "# ------------------------------------------------------------------\n",
        "\n",
        "# 1) List only the columns you want to KEEP, now including the broader 'region'\n",
        "cols_to_keep = [\n",
        "    'ordernumber',        # unique order ID\n",
        "    'orderdate',          # date when the order was placed\n",
        "    'customer names',     # customer who placed the order\n",
        "    'channel',            # sales channel (e.g., Wholesale, Distributor)\n",
        "    'product name',       # product purchased\n",
        "    'order quantity',     # number of units ordered\n",
        "    'unit price',         # price per unit\n",
        "    'line total',         # revenue for this line item (qty × unit_price)\n",
        "    'total unit cost',    # company’s cost for this line item\n",
        "    'state_code',         # two-letter state code\n",
        "    'state',              # full state name\n",
        "    'region',             # broader U.S. region (e.g., South, West)\n",
        "    'latitude',           # latitude of delivery city\n",
        "    'longitude',          # longitude of delivery city\n",
        "]\n",
        "\n",
        "# Subset the DataFrame to only these columns\n",
        "df = df[cols_to_keep]\n",
        "\n",
        "# 2) Rename to more Pythonic / self-explanatory names, including region\n",
        "df = df.rename(columns={\n",
        "    'ordernumber'      : 'order_number',   # snake_case for consistency\n",
        "    'orderdate'        : 'order_date',     # date of the order\n",
        "    'customer names'   : 'customer_name',  # customer who placed it\n",
        "    'product name'     : 'product_name',   # product sold\n",
        "    'order quantity'   : 'quantity',       # units sold\n",
        "    'unit price'       : 'unit_price',     # price per unit in USD\n",
        "    'line total'       : 'revenue',        # revenue for the line item\n",
        "    'total unit cost'  : 'cost',           # cost for the line item\n",
        "    'state_code'       : 'state',          # two-letter state code\n",
        "    'state'            : 'state_name',     # full state name\n",
        "    'region'           : 'us_region',      # broader U.S. region\n",
        "    'latitude'         : 'lat',            # latitude (float)\n",
        "    'longitude'        : 'lon',            # longitude (float)\n",
        "})\n",
        "\n",
        "# Display the cleaned DataFrame structure\n",
        "df.head()"
      ]
    },
    {
      "cell_type": "code",
      "execution_count": 75,
      "metadata": {},
      "outputs": [
        {
          "data": {
            "text/plain": [
              "order_date\n",
              "2017-10-07    67\n",
              "2016-12-20    63\n",
              "2015-10-20    61\n",
              "2016-06-20    61\n",
              "2014-11-09    60\n",
              "              ..\n",
              "2014-01-08    26\n",
              "2014-03-02    25\n",
              "2014-03-06    25\n",
              "2017-08-31    25\n",
              "2015-03-21    24\n",
              "Name: count, Length: 1520, dtype: int64"
            ]
          },
          "execution_count": 75,
          "metadata": {},
          "output_type": "execute_result"
        }
      ],
      "source": [
        "df[\"order_date\"].value_counts()"
      ]
    },
    {
      "cell_type": "code",
      "execution_count": 76,
      "metadata": {
        "colab": {
          "base_uri": "https://localhost:8080/"
        },
        "id": "Dhk8WCNvFAGp",
        "outputId": "bdffefe4-7c94-4ad7-8f6a-3ccc20a4366f"
      },
      "outputs": [
        {
          "name": "stdout",
          "output_type": "stream",
          "text": [
            "<class 'pandas.core.frame.DataFrame'>\n",
            "RangeIndex: 64104 entries, 0 to 64103\n",
            "Data columns (total 14 columns):\n",
            " #   Column         Non-Null Count  Dtype         \n",
            "---  ------         --------------  -----         \n",
            " 0   order_number   64104 non-null  object        \n",
            " 1   order_date     64104 non-null  datetime64[ns]\n",
            " 2   customer_name  64104 non-null  object        \n",
            " 3   channel        64104 non-null  object        \n",
            " 4   product_name   64104 non-null  object        \n",
            " 5   quantity       64104 non-null  int64         \n",
            " 6   unit_price     64104 non-null  float64       \n",
            " 7   revenue        64104 non-null  float64       \n",
            " 8   cost           64104 non-null  float64       \n",
            " 9   state          64104 non-null  object        \n",
            " 10  state_name     64104 non-null  object        \n",
            " 11  us_region      64104 non-null  object        \n",
            " 12  lat            64104 non-null  float64       \n",
            " 13  lon            64104 non-null  float64       \n",
            "dtypes: datetime64[ns](1), float64(5), int64(1), object(7)\n",
            "memory usage: 6.8+ MB\n"
          ]
        }
      ],
      "source": [
        "df.info()"
      ]
    },
    {
      "cell_type": "code",
      "execution_count": 77,
      "metadata": {
        "colab": {
          "base_uri": "https://localhost:8080/",
          "height": 555
        },
        "id": "HVWj4BqLw6OY",
        "outputId": "02df93fc-9b6f-41b1-974c-46b7300254a1"
      },
      "outputs": [
        {
          "data": {
            "text/plain": [
              "order_number     0\n",
              "order_date       0\n",
              "customer_name    0\n",
              "channel          0\n",
              "product_name     0\n",
              "quantity         0\n",
              "unit_price       0\n",
              "revenue          0\n",
              "cost             0\n",
              "state            0\n",
              "state_name       0\n",
              "us_region        0\n",
              "lat              0\n",
              "lon              0\n",
              "dtype: int64"
            ]
          },
          "execution_count": 77,
          "metadata": {},
          "output_type": "execute_result"
        }
      ],
      "source": [
        "# Check for missing values in each column of the dataset\n",
        "df.isnull().sum()"
      ]
    },
    {
      "cell_type": "markdown",
      "metadata": {
        "id": "UmPt69GoBbdf"
      },
      "source": [
        "# *🛠 Feature Engineering*"
      ]
    },
    {
      "cell_type": "code",
      "execution_count": 78,
      "metadata": {
        "colab": {
          "base_uri": "https://localhost:8080/",
          "height": 496
        },
        "id": "qUTEmJqMn2lz",
        "outputId": "7e0284e9-a03f-48ad-aa9d-0677fb208ad0"
      },
      "outputs": [
        {
          "data": {
            "text/html": [
              "<div>\n",
              "<style scoped>\n",
              "    .dataframe tbody tr th:only-of-type {\n",
              "        vertical-align: middle;\n",
              "    }\n",
              "\n",
              "    .dataframe tbody tr th {\n",
              "        vertical-align: top;\n",
              "    }\n",
              "\n",
              "    .dataframe thead th {\n",
              "        text-align: right;\n",
              "    }\n",
              "</style>\n",
              "<table border=\"1\" class=\"dataframe\">\n",
              "  <thead>\n",
              "    <tr style=\"text-align: right;\">\n",
              "      <th></th>\n",
              "      <th>order_number</th>\n",
              "      <th>order_date</th>\n",
              "      <th>customer_name</th>\n",
              "      <th>channel</th>\n",
              "      <th>product_name</th>\n",
              "      <th>quantity</th>\n",
              "      <th>unit_price</th>\n",
              "      <th>revenue</th>\n",
              "      <th>cost</th>\n",
              "      <th>state</th>\n",
              "      <th>state_name</th>\n",
              "      <th>us_region</th>\n",
              "      <th>lat</th>\n",
              "      <th>lon</th>\n",
              "      <th>total_cost</th>\n",
              "      <th>profit</th>\n",
              "      <th>profit_margin_pct</th>\n",
              "      <th>order_month_name</th>\n",
              "      <th>order_month_num</th>\n",
              "    </tr>\n",
              "  </thead>\n",
              "  <tbody>\n",
              "    <tr>\n",
              "      <th>0</th>\n",
              "      <td>SO - 000225</td>\n",
              "      <td>2014-01-01</td>\n",
              "      <td>Rhynoodle Ltd</td>\n",
              "      <td>Wholesale</td>\n",
              "      <td>Product 27</td>\n",
              "      <td>6</td>\n",
              "      <td>2499.1</td>\n",
              "      <td>14994.6</td>\n",
              "      <td>1824.343</td>\n",
              "      <td>GA</td>\n",
              "      <td>Georgia</td>\n",
              "      <td>South</td>\n",
              "      <td>32.08354</td>\n",
              "      <td>-81.09983</td>\n",
              "      <td>10946.058</td>\n",
              "      <td>4048.542</td>\n",
              "      <td>27.0</td>\n",
              "      <td>January</td>\n",
              "      <td>1</td>\n",
              "    </tr>\n",
              "    <tr>\n",
              "      <th>1</th>\n",
              "      <td>SO - 0003378</td>\n",
              "      <td>2014-01-01</td>\n",
              "      <td>Thoughtmix Ltd</td>\n",
              "      <td>Distributor</td>\n",
              "      <td>Product 20</td>\n",
              "      <td>11</td>\n",
              "      <td>2351.7</td>\n",
              "      <td>25868.7</td>\n",
              "      <td>1269.918</td>\n",
              "      <td>IN</td>\n",
              "      <td>Indiana</td>\n",
              "      <td>Midwest</td>\n",
              "      <td>39.61366</td>\n",
              "      <td>-86.10665</td>\n",
              "      <td>13969.098</td>\n",
              "      <td>11899.602</td>\n",
              "      <td>46.0</td>\n",
              "      <td>January</td>\n",
              "      <td>1</td>\n",
              "    </tr>\n",
              "    <tr>\n",
              "      <th>2</th>\n",
              "      <td>SO - 0005126</td>\n",
              "      <td>2014-01-01</td>\n",
              "      <td>Amerisourc Corp</td>\n",
              "      <td>Wholesale</td>\n",
              "      <td>Product 26</td>\n",
              "      <td>6</td>\n",
              "      <td>978.2</td>\n",
              "      <td>5869.2</td>\n",
              "      <td>684.740</td>\n",
              "      <td>CA</td>\n",
              "      <td>California</td>\n",
              "      <td>West</td>\n",
              "      <td>37.66243</td>\n",
              "      <td>-121.87468</td>\n",
              "      <td>4108.440</td>\n",
              "      <td>1760.760</td>\n",
              "      <td>30.0</td>\n",
              "      <td>January</td>\n",
              "      <td>1</td>\n",
              "    </tr>\n",
              "    <tr>\n",
              "      <th>3</th>\n",
              "      <td>SO - 0005614</td>\n",
              "      <td>2014-01-01</td>\n",
              "      <td>Colgate-Pa Group</td>\n",
              "      <td>Export</td>\n",
              "      <td>Product 7</td>\n",
              "      <td>7</td>\n",
              "      <td>2338.3</td>\n",
              "      <td>16368.1</td>\n",
              "      <td>1028.852</td>\n",
              "      <td>IN</td>\n",
              "      <td>Indiana</td>\n",
              "      <td>Midwest</td>\n",
              "      <td>39.16533</td>\n",
              "      <td>-86.52639</td>\n",
              "      <td>7201.964</td>\n",
              "      <td>9166.136</td>\n",
              "      <td>56.0</td>\n",
              "      <td>January</td>\n",
              "      <td>1</td>\n",
              "    </tr>\n",
              "    <tr>\n",
              "      <th>4</th>\n",
              "      <td>SO - 0005781</td>\n",
              "      <td>2014-01-01</td>\n",
              "      <td>Deseret Group</td>\n",
              "      <td>Wholesale</td>\n",
              "      <td>Product 8</td>\n",
              "      <td>8</td>\n",
              "      <td>2291.4</td>\n",
              "      <td>18331.2</td>\n",
              "      <td>1260.270</td>\n",
              "      <td>CT</td>\n",
              "      <td>Connecticut</td>\n",
              "      <td>Northeast</td>\n",
              "      <td>41.77524</td>\n",
              "      <td>-72.52443</td>\n",
              "      <td>10082.160</td>\n",
              "      <td>8249.040</td>\n",
              "      <td>45.0</td>\n",
              "      <td>January</td>\n",
              "      <td>1</td>\n",
              "    </tr>\n",
              "    <tr>\n",
              "      <th>...</th>\n",
              "      <td>...</td>\n",
              "      <td>...</td>\n",
              "      <td>...</td>\n",
              "      <td>...</td>\n",
              "      <td>...</td>\n",
              "      <td>...</td>\n",
              "      <td>...</td>\n",
              "      <td>...</td>\n",
              "      <td>...</td>\n",
              "      <td>...</td>\n",
              "      <td>...</td>\n",
              "      <td>...</td>\n",
              "      <td>...</td>\n",
              "      <td>...</td>\n",
              "      <td>...</td>\n",
              "      <td>...</td>\n",
              "      <td>...</td>\n",
              "      <td>...</td>\n",
              "      <td>...</td>\n",
              "    </tr>\n",
              "    <tr>\n",
              "      <th>64099</th>\n",
              "      <td>SO - 0007573</td>\n",
              "      <td>2018-02-28</td>\n",
              "      <td>Dazzlesphe Corp</td>\n",
              "      <td>Wholesale</td>\n",
              "      <td>Product 26</td>\n",
              "      <td>12</td>\n",
              "      <td>1815.7</td>\n",
              "      <td>21788.4</td>\n",
              "      <td>980.478</td>\n",
              "      <td>PA</td>\n",
              "      <td>Pennsylvania</td>\n",
              "      <td>Northeast</td>\n",
              "      <td>40.15511</td>\n",
              "      <td>-74.82877</td>\n",
              "      <td>11765.736</td>\n",
              "      <td>10022.664</td>\n",
              "      <td>46.0</td>\n",
              "      <td>February</td>\n",
              "      <td>2</td>\n",
              "    </tr>\n",
              "    <tr>\n",
              "      <th>64100</th>\n",
              "      <td>SO - 0007706</td>\n",
              "      <td>2018-02-28</td>\n",
              "      <td>Yombu Corp</td>\n",
              "      <td>Export</td>\n",
              "      <td>Product 21</td>\n",
              "      <td>6</td>\n",
              "      <td>864.3</td>\n",
              "      <td>5185.8</td>\n",
              "      <td>579.081</td>\n",
              "      <td>IL</td>\n",
              "      <td>Illinois</td>\n",
              "      <td>Midwest</td>\n",
              "      <td>42.11030</td>\n",
              "      <td>-88.03424</td>\n",
              "      <td>3474.486</td>\n",
              "      <td>1711.314</td>\n",
              "      <td>33.0</td>\n",
              "      <td>February</td>\n",
              "      <td>2</td>\n",
              "    </tr>\n",
              "    <tr>\n",
              "      <th>64101</th>\n",
              "      <td>SO - 0007718</td>\n",
              "      <td>2018-02-28</td>\n",
              "      <td>Bath Group</td>\n",
              "      <td>Distributor</td>\n",
              "      <td>Product 13</td>\n",
              "      <td>11</td>\n",
              "      <td>3953.0</td>\n",
              "      <td>43483.0</td>\n",
              "      <td>2648.510</td>\n",
              "      <td>FL</td>\n",
              "      <td>Florida</td>\n",
              "      <td>South</td>\n",
              "      <td>26.24453</td>\n",
              "      <td>-80.20644</td>\n",
              "      <td>29133.610</td>\n",
              "      <td>14349.390</td>\n",
              "      <td>33.0</td>\n",
              "      <td>February</td>\n",
              "      <td>2</td>\n",
              "    </tr>\n",
              "    <tr>\n",
              "      <th>64102</th>\n",
              "      <td>SO - 0008084</td>\n",
              "      <td>2018-02-28</td>\n",
              "      <td>Linklinks Ltd</td>\n",
              "      <td>Distributor</td>\n",
              "      <td>Product 20</td>\n",
              "      <td>7</td>\n",
              "      <td>3959.7</td>\n",
              "      <td>27717.9</td>\n",
              "      <td>2930.178</td>\n",
              "      <td>NY</td>\n",
              "      <td>New York</td>\n",
              "      <td>Northeast</td>\n",
              "      <td>42.91002</td>\n",
              "      <td>-78.74182</td>\n",
              "      <td>20511.246</td>\n",
              "      <td>7206.654</td>\n",
              "      <td>26.0</td>\n",
              "      <td>February</td>\n",
              "      <td>2</td>\n",
              "    </tr>\n",
              "    <tr>\n",
              "      <th>64103</th>\n",
              "      <td>SO - 0008654</td>\n",
              "      <td>2018-02-28</td>\n",
              "      <td>SAFEWAY Ltd</td>\n",
              "      <td>Distributor</td>\n",
              "      <td>Product 15</td>\n",
              "      <td>8</td>\n",
              "      <td>998.3</td>\n",
              "      <td>7986.4</td>\n",
              "      <td>848.555</td>\n",
              "      <td>OR</td>\n",
              "      <td>Oregon</td>\n",
              "      <td>West</td>\n",
              "      <td>45.48706</td>\n",
              "      <td>-122.80371</td>\n",
              "      <td>6788.440</td>\n",
              "      <td>1197.960</td>\n",
              "      <td>15.0</td>\n",
              "      <td>February</td>\n",
              "      <td>2</td>\n",
              "    </tr>\n",
              "  </tbody>\n",
              "</table>\n",
              "<p>64104 rows × 19 columns</p>\n",
              "</div>"
            ],
            "text/plain": [
              "       order_number order_date     customer_name      channel product_name  \\\n",
              "0       SO - 000225 2014-01-01     Rhynoodle Ltd    Wholesale   Product 27   \n",
              "1      SO - 0003378 2014-01-01    Thoughtmix Ltd  Distributor   Product 20   \n",
              "2      SO - 0005126 2014-01-01   Amerisourc Corp    Wholesale   Product 26   \n",
              "3      SO - 0005614 2014-01-01  Colgate-Pa Group       Export    Product 7   \n",
              "4      SO - 0005781 2014-01-01     Deseret Group    Wholesale    Product 8   \n",
              "...             ...        ...               ...          ...          ...   \n",
              "64099  SO - 0007573 2018-02-28   Dazzlesphe Corp    Wholesale   Product 26   \n",
              "64100  SO - 0007706 2018-02-28        Yombu Corp       Export   Product 21   \n",
              "64101  SO - 0007718 2018-02-28        Bath Group  Distributor   Product 13   \n",
              "64102  SO - 0008084 2018-02-28     Linklinks Ltd  Distributor   Product 20   \n",
              "64103  SO - 0008654 2018-02-28       SAFEWAY Ltd  Distributor   Product 15   \n",
              "\n",
              "       quantity  unit_price  revenue      cost state    state_name  us_region  \\\n",
              "0             6      2499.1  14994.6  1824.343    GA       Georgia      South   \n",
              "1            11      2351.7  25868.7  1269.918    IN       Indiana    Midwest   \n",
              "2             6       978.2   5869.2   684.740    CA    California       West   \n",
              "3             7      2338.3  16368.1  1028.852    IN       Indiana    Midwest   \n",
              "4             8      2291.4  18331.2  1260.270    CT   Connecticut  Northeast   \n",
              "...         ...         ...      ...       ...   ...           ...        ...   \n",
              "64099        12      1815.7  21788.4   980.478    PA  Pennsylvania  Northeast   \n",
              "64100         6       864.3   5185.8   579.081    IL      Illinois    Midwest   \n",
              "64101        11      3953.0  43483.0  2648.510    FL       Florida      South   \n",
              "64102         7      3959.7  27717.9  2930.178    NY      New York  Northeast   \n",
              "64103         8       998.3   7986.4   848.555    OR        Oregon       West   \n",
              "\n",
              "            lat        lon  total_cost     profit  profit_margin_pct  \\\n",
              "0      32.08354  -81.09983   10946.058   4048.542               27.0   \n",
              "1      39.61366  -86.10665   13969.098  11899.602               46.0   \n",
              "2      37.66243 -121.87468    4108.440   1760.760               30.0   \n",
              "3      39.16533  -86.52639    7201.964   9166.136               56.0   \n",
              "4      41.77524  -72.52443   10082.160   8249.040               45.0   \n",
              "...         ...        ...         ...        ...                ...   \n",
              "64099  40.15511  -74.82877   11765.736  10022.664               46.0   \n",
              "64100  42.11030  -88.03424    3474.486   1711.314               33.0   \n",
              "64101  26.24453  -80.20644   29133.610  14349.390               33.0   \n",
              "64102  42.91002  -78.74182   20511.246   7206.654               26.0   \n",
              "64103  45.48706 -122.80371    6788.440   1197.960               15.0   \n",
              "\n",
              "      order_month_name  order_month_num  \n",
              "0              January                1  \n",
              "1              January                1  \n",
              "2              January                1  \n",
              "3              January                1  \n",
              "4              January                1  \n",
              "...                ...              ...  \n",
              "64099         February                2  \n",
              "64100         February                2  \n",
              "64101         February                2  \n",
              "64102         February                2  \n",
              "64103         February                2  \n",
              "\n",
              "[64104 rows x 19 columns]"
            ]
          },
          "execution_count": 78,
          "metadata": {},
          "output_type": "execute_result"
        }
      ],
      "source": [
        "# 1. Calculate total cost for each line item\n",
        "df['total_cost'] = df['quantity'] * df['cost']\n",
        "\n",
        "# 2. Calculate profit as revenue minus total_cost\n",
        "df['profit'] = df['revenue'] - df['total_cost']\n",
        "\n",
        "# 3. Calculate profit margin as a percentage\n",
        "df['profit_margin_pct'] = (df['profit'] / df['revenue']) * 100\n",
        "\n",
        "# 4. Extract full month name from order_date for labeling (e.g., 'January', 'February')\n",
        "df['order_month_name'] = df['order_date'].dt.month_name()\n",
        "\n",
        "# 5. Extract month number from order_date for correct sorting (1–12)\n",
        "df['order_month_num'] = df['order_date'].dt.month\n",
        "\n",
        "# 6. (Optional) Display the updated DataFrame\n",
        "df"
      ]
    },
    {
      "cell_type": "code",
      "execution_count": null,
      "metadata": {},
      "outputs": [],
      "source": [
        "# Shift all order_date years forward by 6 years (e.g., 2014→2020, 2015→2021, etc.)\n",
        "df['order_date'] = df['order_date'] + pd.DateOffset(years=6)"
      ]
    },
    {
      "cell_type": "code",
      "execution_count": null,
      "metadata": {},
      "outputs": [],
      "source": [
        "# df.to_csv(\"Regional Sales Data.csv\",index=False)"
      ]
    },
    {
      "cell_type": "markdown",
      "metadata": {
        "id": "R-a-FZwvLgRG"
      },
      "source": [
        "# **📊 Exploratory Analysis**"
      ]
    },
    {
      "cell_type": "markdown",
      "metadata": {
        "id": "tjjhbX5-AKH5"
      },
      "source": [
        "## 🔹 1. *Monthly Sales Trend Over Time*\n",
        "\n",
        "Goal: Track revenue trends over time to detect seasonality or sales spikes\n",
        "\n",
        "Chart: Line chart\n",
        "\n",
        "EDA Type: Temporal (time series)\n",
        "\n",
        "Structure: Line with markers to highlight monthly revenue points clearly"
      ]
    },
    {
      "cell_type": "code",
      "execution_count": 47,
      "metadata": {
        "colab": {
          "base_uri": "https://localhost:8080/",
          "height": 407
        },
        "id": "XM2bLQIW10ub",
        "outputId": "5f10c474-93d2-4217-fae8-1d1f59f3041d"
      },
      "outputs": [
        {
          "data": {
            "image/png": "[encoded data removed]",
            "text/plain": [
              "<Figure size 1500x400 with 1 Axes>"
            ]
          },
          "metadata": {},
          "output_type": "display_data"
        }
      ],
      "source": [
        "# Convert order_date to monthly period (e.g., 2022-01, 2022-02)\n",
        "df['order_month'] = df['order_date'].dt.to_period('M')\n",
        "\n",
        "# Calculate total revenue for each month\n",
        "monthly_sales = df.groupby('order_month')['revenue'].sum()\n",
        "\n",
        "# Set figure size for clarity\n",
        "plt.figure(figsize=(15,4))\n",
        "\n",
        "# Plot the monthly sales trend with circle markers and navy line\n",
        "monthly_sales.plot(marker='o', color='navy')\n",
        "\n",
        "# Scale y-axis values to millions for readability\n",
        "from matplotlib.ticker import FuncFormatter\n",
        "formatter = FuncFormatter(lambda x, pos: f'{x/1e6:.1f}M')\n",
        "plt.gca().yaxis.set_major_formatter(formatter)\n",
        "\n",
        "# Add title and axis labels\n",
        "plt.title('Monthly Sales Trend')\n",
        "plt.xlabel('Month')\n",
        "plt.ylabel('Total Revenue (Millions)')\n",
        "\n",
        "# Rotate x-axis labels for better readability\n",
        "plt.xticks(rotation=45)\n",
        "\n",
        "# Adjust layout to prevent clipping\n",
        "plt.tight_layout()\n",
        "plt.show()"
      ]
    },
    {
      "cell_type": "markdown",
      "metadata": {
        "id": "Bh-Xq4wRElDC"
      },
      "source": [
        "### INSIGHTS ---\n",
        "Sales consistently cycle between \\$24 M and \\$26 M, with clear peaks in late spring to early summer (May–June) and troughs each January.  \n",
        "\n",
        "The overall trend remains stable year over year, reflecting a reliable seasonal demand pattern.  \n",
        "\n",
        "However, the sharp revenue drop in early 2017 stands out as an outlier, warranting closer investigation into potential causes such as market disruptions or mistimed promotions.  "
      ]
    },
    {
      "cell_type": "markdown",
      "metadata": {
        "id": "vZStXPgBEmcQ"
      },
      "source": [
        "## 🔹 2. *Monthly Sales Trend (All Years Combined)*\n",
        "\n",
        "Goal: Highlight overall seasonality patterns by aggregating sales across all years for each calendar month\n",
        "\n",
        "Chart: Line chart\n",
        "\n",
        "EDA Type: Temporal (time series)\n",
        "\n",
        "Structure: Line with markers, months ordered January to December based on month number"
      ]
    },
    {
      "cell_type": "code",
      "execution_count": 48,
      "metadata": {
        "colab": {
          "base_uri": "https://localhost:8080/",
          "height": 407
        },
        "id": "cfNl9kpWGVdO",
        "outputId": "3fb909a0-eb5a-4772-b7c0-d3a9db3241e7"
      },
      "outputs": [
        {
          "data": {
            "image/png": "[encoded data removed]",
            "text/plain": [
              "<Figure size 1300x400 with 1 Axes>"
            ]
          },
          "metadata": {},
          "output_type": "display_data"
        }
      ],
      "source": [
        "# 1. Filter out any 2018 orders\n",
        "df_ = df[df['order_date'].dt.year != 2018]   # exclude any partial-year data (i.e., January and February of 2018) so that the monthly totals aren’t skewed by an incomplete year.\n",
        "                                            #I create df_ so I don’t alter the original df, preserving it intact for other analyses while filtering just for this chart.\n",
        "\n",
        "\n",
        "# 2. Group by month number and month name, sum revenue, then sort by month number\n",
        "monthly_sales = (\n",
        "    df_\n",
        "    .groupby(['order_month_num', 'order_month_name'])['revenue']\n",
        "    .sum()\n",
        "    .sort_index()\n",
        ")\n",
        "\n",
        "# 3. Plot setup\n",
        "from matplotlib.ticker import FuncFormatter\n",
        "\n",
        "plt.figure(figsize=(13, 4))\n",
        "plt.plot(\n",
        "    monthly_sales.index.get_level_values(1),  # X-axis: month names\n",
        "    monthly_sales.values,                     # Y-axis: total revenue\n",
        "    marker='o',                                # circle markers\n",
        "    color='navy'                               # line color\n",
        ")\n",
        "\n",
        "# 4. Scale y-axis values to millions for readability\n",
        "formatter = FuncFormatter(lambda x, pos: f'{x/1e6:.1f}M')\n",
        "plt.gca().yaxis.set_major_formatter(formatter)\n",
        "\n",
        "# 5. Add title and axis labels\n",
        "plt.title('Overall Monthly Sales Trend (Excluding 2018)')\n",
        "plt.xlabel('Month')\n",
        "plt.ylabel('Total Revenue (Millions)')\n",
        "\n",
        "# 6. Rotate x-axis labels for readability\n",
        "plt.xticks(rotation=45)\n",
        "\n",
        "# 7. Adjust layout to prevent clipping\n",
        "plt.tight_layout()\n",
        "\n",
        "# 8. Display the plot\n",
        "plt.show()\n"
      ]
    },
    {
      "cell_type": "markdown",
      "metadata": {
        "id": "C0MuQ4fDFj2k"
      },
      "source": [
        "### INSIGHTS ---\n",
        "\n",
        "Across all years, January begins strong with roughly \\$99 M, followed by a steep decline through April’s low point (≈\\$95 M).\n",
        "\n",
        "Sales rebound in May and August (≈\\$102 M) before settling into a plateau of \\$99–101 M from September to December.\n",
        "\n",
        "This pattern reveals a strong post–New Year surge, a spring dip, and a mid–summer bump each calendar year.\n"
      ]
    },
    {
      "cell_type": "markdown",
      "metadata": {
        "id": "wCw5lkZXFj6G"
      },
      "source": [
        "## 🔹 3. *Top 10 Products by Revenue (in Millions)*\n",
        "\n",
        "Goal: Identify the highest-grossing products to focus marketing and inventory efforts\n",
        "\n",
        "Chart: Horizontal bar chart\n",
        "\n",
        "EDA Type: Univariate\n",
        "\n",
        "Structure: Bars sorted descending to show top 10 products with revenue scaled in millions"
      ]
    },
    {
      "cell_type": "code",
      "execution_count": 49,
      "metadata": {
        "colab": {
          "base_uri": "https://localhost:8080/",
          "height": 494
        },
        "id": "6xassoiEpfpH",
        "outputId": "1f85e8c5-ce3a-4fb3-c13e-c016120429e5"
      },
      "outputs": [
        {
          "name": "stderr",
          "output_type": "stream",
          "text": [
            "C:\\Users\\anxaa\\AppData\\Local\\Temp\\ipykernel_36996\\1186821662.py:11: FutureWarning: \n",
            "\n",
            "Passing `palette` without assigning `hue` is deprecated and will be removed in v0.14.0. Assign the `y` variable to `hue` and set `legend=False` for the same effect.\n",
            "\n",
            "  sns.barplot(\n"
          ]
        },
        {
          "data": {
            "image/png": "[encoded data removed]",
            "text/plain": [
              "<Figure size 900x400 with 1 Axes>"
            ]
          },
          "metadata": {},
          "output_type": "display_data"
        }
      ],
      "source": [
        "# Calculate total revenue for each product and convert values to millions\n",
        "top_prod = df.groupby('product_name')['revenue'].sum() / 1_000_000\n",
        "\n",
        "# Select the top 10 products by revenue\n",
        "top_prod = top_prod.nlargest(10)\n",
        "\n",
        "# Set the figure size for clarity\n",
        "plt.figure(figsize=(9, 4))\n",
        "\n",
        "# Plot a horizontal bar chart: x-axis as revenue in millions, y-axis as product names\n",
        "sns.barplot(\n",
        "    x=top_prod.values,    # X-axis: revenue values in millions\n",
        "    y=top_prod.index,     # Y-axis: product names\n",
        "    palette='viridis'     # Color palette for bars\n",
        ")\n",
        "\n",
        "# Add title and axis labels\n",
        "plt.title('Top 10 Products by Revenue (in Millions)')  # Main title\n",
        "plt.xlabel('Total Revenue (in Millions)')              # X-axis label\n",
        "plt.ylabel('Product Name')                             # Y-axis label\n",
        "\n",
        "# Adjust layout to prevent overlapping elements\n",
        "plt.tight_layout()\n",
        "\n",
        "# Display the plot\n",
        "plt.show()"
      ]
    },
    {
      "cell_type": "markdown",
      "metadata": {
        "id": "IrGkika5F-yG"
      },
      "source": [
        "### INSIGHTS ---\n",
        "Products 26 and 25 pull away at \\$118 M and \\$110 M, with a sharp drop to \\$78 M for Product 13 and a tight mid-pack at \\$68–\\$75 M.  \n",
        "\n",
        "The bottom four cluster at \\$52–\\$57 M, highlighting similar constraints.  \n",
        "\n",
        "Focus on growth pilots for the mid-tier and efficiency gains for the lower earners to drive significant lifts.  "
      ]
    },
    {
      "cell_type": "markdown",
      "metadata": {
        "id": "9VWBI1jMF--5"
      },
      "source": [
        "## 🔹 4. *Top 10 Products by Avg Profit Margin*\n",
        "\n",
        "Goal: Compare average profitability across products to identify high-margin items\n",
        "\n",
        "Chart: Horizontal bar chart\n",
        "\n",
        "EDA Type: Univariate\n",
        "\n",
        "Structure: Bars sorted descending to show top 10 products with average profit margin values"
      ]
    },
    {
      "cell_type": "code",
      "execution_count": 50,
      "metadata": {
        "colab": {
          "base_uri": "https://localhost:8080/",
          "height": 494
        },
        "id": "laYXsy579Rhg",
        "outputId": "1fba3c07-0b37-417b-8917-6cd7f0a449d0"
      },
      "outputs": [
        {
          "name": "stderr",
          "output_type": "stream",
          "text": [
            "C:\\Users\\anxaa\\AppData\\Local\\Temp\\ipykernel_36996\\1714083238.py:13: FutureWarning: \n",
            "\n",
            "Passing `palette` without assigning `hue` is deprecated and will be removed in v0.14.0. Assign the `y` variable to `hue` and set `legend=False` for the same effect.\n",
            "\n",
            "  sns.barplot(\n"
          ]
        },
        {
          "data": {
            "image/png": "[encoded data removed]",
            "text/plain": [
              "<Figure size 900x400 with 1 Axes>"
            ]
          },
          "metadata": {},
          "output_type": "display_data"
        }
      ],
      "source": [
        "# 1️⃣ Compute average profit per product and take the top 10\n",
        "top_margin = (\n",
        "    df.groupby('product_name')['profit']\n",
        "      .mean()                        # Calculate mean profit for each product\n",
        "      .sort_values(ascending=False)  # Sort from highest to lowest average profit\n",
        "      .head(10)                      # Keep only the top 10 products\n",
        ")\n",
        "\n",
        "# 2️⃣ Set the figure size for clarity\n",
        "plt.figure(figsize=(9, 4))\n",
        "\n",
        "# 3️⃣ Plot a horizontal bar chart\n",
        "sns.barplot(\n",
        "    x=top_margin.values,    # X-axis: average profit values\n",
        "    y=top_margin.index,     # Y-axis: product names\n",
        "    palette='viridis'       # Color palette for the bars\n",
        ")\n",
        "\n",
        "# 4️⃣ Add title and axis labels\n",
        "plt.title('Top 10 Products by Avg Profit Margin')  # Chart title\n",
        "plt.xlabel('Average Profit Margin (USD)')          # X-axis label\n",
        "plt.ylabel('Product Name')                         # Y-axis label\n",
        "\n",
        "# 5️⃣ Adjust layout to prevent clipping and show the plot\n",
        "plt.tight_layout()\n",
        "plt.show()"
      ]
    },
    {
      "cell_type": "markdown",
      "metadata": {
        "id": "ZphA2f5TGZ3M"
      },
      "source": [
        "### INSIGHTS ---\n",
        "\n",
        "Products 18 and 28 lead with average profit margins of approximately \\$8.0–8.3 K, followed closely by Product 5 and Product 11 around \\$7.9–8.0 K.\n",
        "\n",
        "Mid-tier performers like Products 12, 26, and 21 cluster in the \\$7.7–7.8 K range, while the bottom tier (Products 4, 16, and 1) fall between \\$7.4–7.6 K.\n",
        "\n",
        "Focusing on margin optimization strategies from top performers may help elevate overall product profitability.\n"
      ]
    },
    {
      "cell_type": "markdown",
      "metadata": {
        "id": "Je5JOr0rGZ69"
      },
      "source": [
        "## 🔹 5. *Sales by Channel (Pie Chart)*\n",
        "\n",
        "Goal: Show distribution of total sales across channels to identify dominant sales routes\n",
        "\n",
        "Chart: Pie chart\n",
        "\n",
        "EDA Type: Univariate\n",
        "\n",
        "Structure: Pie segments with percentage labels, colors for clarity, start angle adjusted"
      ]
    },
    {
      "cell_type": "code",
      "execution_count": 51,
      "metadata": {
        "colab": {
          "base_uri": "https://localhost:8080/",
          "height": 503
        },
        "id": "l0VZEJ3XtCha",
        "outputId": "f6aed868-2f5d-4193-a74a-e603df5beb29"
      },
      "outputs": [
        {
          "data": {
            "image/png": "[encoded data removed]",
            "text/plain": [
              "<Figure size 500x500 with 1 Axes>"
            ]
          },
          "metadata": {},
          "output_type": "display_data"
        }
      ],
      "source": [
        "# Group revenue by sales channel and sort descending\n",
        "chan_sales = df.groupby('channel')['revenue'].sum().sort_values(ascending=False)\n",
        "\n",
        "# Set figure size for the pie chart\n",
        "plt.figure(figsize=(5, 5))\n",
        "\n",
        "# Plot pie chart with percentage labels and a defined start angle\n",
        "plt.pie(\n",
        "    chan_sales.values,                   # Data: revenue values per channel\n",
        "    labels=chan_sales.index,             # Labels: channel names\n",
        "    autopct='%1.1f%%',                   # Display percentages with one decimal\n",
        "    startangle=140,                      # Rotate chart so first slice starts at 140 degrees\n",
        "    colors=sns.color_palette('coolwarm') # Color palette for slices\n",
        ")\n",
        "\n",
        "# Add title for context\n",
        "plt.title('Total Sales by Channel')\n",
        "\n",
        "# Adjust layout to ensure everything fits well\n",
        "plt.tight_layout()\n",
        "\n",
        "# Display the chart\n",
        "plt.show()"
      ]
    },
    {
      "cell_type": "markdown",
      "metadata": {
        "id": "SJupod_UGw6X"
      },
      "source": [
        "### INSIGHTS ---\n",
        "Wholesale accounts for 54 % of sales, with distributors at ~31 % and exports at ~15 %, underscoring reliance on domestic bulk channels.  \n",
        "\n",
        "To diversify revenue and mitigate concentration risk, prioritize expanding export initiatives—through targeted overseas marketing and strategic partner relationships.  \n"
      ]
    },
    {
      "cell_type": "markdown",
      "metadata": {
        "id": "i9ZlnsdZGxFp"
      },
      "source": [
        "## 🔹 6. *Average Order Value (AOV) Distribution*\n",
        "\n",
        "Goal: Understand distribution of order values to identify typical spending levels and outliers\n",
        "\n",
        "Chart: Histogram\n",
        "\n",
        "EDA Type: Univariate\n",
        "\n",
        "Structure: Histogram with 50 bins, colored bars with edge highlights to show frequency of order values"
      ]
    },
    {
      "cell_type": "code",
      "execution_count": 52,
      "metadata": {
        "colab": {
          "base_uri": "https://localhost:8080/",
          "height": 407
        },
        "id": "hP5d9VTdqc9L",
        "outputId": "4418c391-2d3f-47ce-9389-6e8d9af94cdc"
      },
      "outputs": [
        {
          "data": {
            "image/png": "[encoded data removed]",
            "text/plain": [
              "<Figure size 1200x400 with 1 Axes>"
            ]
          },
          "metadata": {},
          "output_type": "display_data"
        }
      ],
      "source": [
        "# Calculate the total revenue for each order to get the order value\n",
        "aov = df.groupby('order_number')['revenue'].sum()\n",
        "\n",
        "# Set the figure size for better visibility\n",
        "plt.figure(figsize=(12, 4))\n",
        "\n",
        "# Plot a histogram of order values\n",
        "plt.hist(\n",
        "    aov,               # Data: list of order values\n",
        "    bins=50,           # Number of bins to group order values\n",
        "    color='skyblue',   # Fill color of the bars\n",
        "    edgecolor='black'  # Outline color of the bars\n",
        ")\n",
        "\n",
        "# Add title and axis labels for context\n",
        "plt.title('Distribution of Average Order Value')\n",
        "plt.xlabel('Order Value (USD)')\n",
        "plt.ylabel('Number of Orders')\n",
        "\n",
        "# Adjust layout to prevent clipping\n",
        "plt.tight_layout()\n",
        "\n",
        "# Show the plot\n",
        "plt.show()"
      ]
    },
    {
      "cell_type": "markdown",
      "metadata": {
        "id": "XHR5WwQBG58e"
      },
      "source": [
        "### INSIGHTS ---\n",
        "The order‐value distribution is heavily right‐skewed, with most orders clustering between \\$20 K and \\$120 K and a pronounced mode around \\$50 K–\\$60 K.  \n",
        "\n",
        "A long tail of high-value transactions extends up toward \\$400 K–\\$500 K, but these large orders represent only a small share of total volume.  \n"
      ]
    },
    {
      "cell_type": "markdown",
      "metadata": {
        "id": "FChWTe_hG6AL"
      },
      "source": [
        "## 🔹 7. *Profit Margin % vs. Unit Price*\n",
        "\n",
        "Goal: Examine relationship between unit price and profit margin percentage across orders\n",
        "\n",
        "Chart: Scatter plot\n",
        "\n",
        "EDA Type: Bivariate\n",
        "\n",
        "Structure: Scatter points with transparency to show data density"
      ]
    },
    {
      "cell_type": "code",
      "execution_count": 53,
      "metadata": {
        "colab": {
          "base_uri": "https://localhost:8080/",
          "height": 407
        },
        "id": "PIXqStbJ1RzI",
        "outputId": "255a775c-bc5e-44ac-b637-30dcceacbf3c"
      },
      "outputs": [
        {
          "data": {
            "image/png": "[encoded data removed]",
            "text/plain": [
              "<Figure size 600x400 with 1 Axes>"
            ]
          },
          "metadata": {},
          "output_type": "display_data"
        }
      ],
      "source": [
        "# Calculate profit margin percentage for each record\n",
        "df['profit_margin_pct'] = (df['profit'] / df['revenue']) * 100\n",
        "\n",
        "# Set the figure size for clarity\n",
        "plt.figure(figsize=(6,4))\n",
        "\n",
        "# Plot unit price vs. profit margin percentage\n",
        "plt.scatter(\n",
        "    df['unit_price'],            # X-axis: unit price in USD\n",
        "    df['profit_margin_pct'],     # Y-axis: profit margin percentage\n",
        "    alpha=0.6,                   # Transparency level for overlapping points\n",
        "    color='green'                # Point color\n",
        ")\n",
        "\n",
        "# Add title and axis labels\n",
        "plt.title('Profit Margin % vs. Unit Price')  # Chart title\n",
        "plt.xlabel('Unit Price (USD)')                # X-axis label\n",
        "plt.ylabel('Profit Margin (%)')               # Y-axis label\n",
        "\n",
        "# Adjust layout to prevent clipping\n",
        "plt.tight_layout()\n",
        "\n",
        "# Display the plot\n",
        "plt.show()"
      ]
    },
    {
      "cell_type": "markdown",
      "metadata": {
        "id": "qq3vCr7nHNc3"
      },
      "source": [
        "### INSIGHTS ---\n",
        "\n",
        "Profit margins are concentrated between ~18% and 60%, with no clear correlation to unit price, which spans from near \\$0 to over \\$6,500.\n",
        "\n",
        "Dense horizontal bands indicate consistent margin tiers across a wide price spectrum, reflecting uniform pricing strategies.\n",
        "\n",
        "Outliers below 18% at both low and high price points may signal cost inefficiencies or pricing issues worth deeper investigation.\n"
      ]
    },
    {
      "cell_type": "markdown",
      "metadata": {
        "id": "0R8ce2EnHNhD"
      },
      "source": [
        "## 🔹 8. *Unit Price Distribution per Product*\n",
        "\n",
        "Goal: Compare pricing variability across different products to identify price consistency and outliers\n",
        "\n",
        "Chart: Boxplot\n",
        "\n",
        "EDA Type: Bivariate\n",
        "\n",
        "Structure: Boxplot with rotated labels to display unit price spread per product"
      ]
    },
    {
      "cell_type": "code",
      "execution_count": 54,
      "metadata": {
        "colab": {
          "base_uri": "https://localhost:8080/",
          "height": 407
        },
        "id": "L0Cs4OJ_1eUX",
        "outputId": "3f7830c8-d2af-490f-9f02-a8330f42cc14"
      },
      "outputs": [
        {
          "data": {
            "image/png": "[encoded data removed]",
            "text/plain": [
              "<Figure size 1200x400 with 1 Axes>"
            ]
          },
          "metadata": {},
          "output_type": "display_data"
        }
      ],
      "source": [
        "# Set figure size for clarity\n",
        "plt.figure(figsize=(12,4))\n",
        "\n",
        "# Create a boxplot of unit_price by product_name\n",
        "sns.boxplot(\n",
        "    data=df,\n",
        "    x='product_name',   # X-axis: product categories\n",
        "    y='unit_price',      # Y-axis: unit price values\n",
        "    color='g'            # Box color\n",
        ")\n",
        "\n",
        "# Add title and axis labels\n",
        "plt.title('Unit Price Distribution per Product')  # Chart title\n",
        "plt.xlabel('Product')                              # X-axis label\n",
        "plt.ylabel('Unit Price (USD)')                     # Y-axis label\n",
        "\n",
        "# Rotate x-axis labels for better readability\n",
        "plt.xticks(rotation=45, ha='right')\n",
        "\n",
        "# Adjust layout to prevent clipping of labels\n",
        "plt.tight_layout()\n",
        "\n",
        "# Display the plot\n",
        "plt.show()"
      ]
    },
    {
      "cell_type": "markdown",
      "metadata": {
        "id": "Aj4RMs6kT3x5"
      },
      "source": [
        "### INSIGHTS ---\n",
        "Products 8, 17, 27, 20, and 28 show high-end revenue spikes—well above their upper whiskers—likely due to bulk orders, special-edition releases, or premium bundles that temporarily inflate earnings.  \n",
        "\n",
        "In contrast, deep low-end outliers (near \\$0–\\$100) on Products 20 and 27 suggest promotional giveaways or test SKUs that pull down average prices.  \n",
        "\n",
        "To ensure accurate margin and pricing assessments, exclude these outlier transactions from average calculations.  \n",
        "\n",
        "Then assess whether such anomalies warrant formalization as ongoing promotional strategies or should be phased out to stabilize pricing performance.\n"
      ]
    },
    {
      "cell_type": "markdown",
      "metadata": {
        "id": "uDYlVVwekRqN"
      },
      "source": [
        "## 🔹 9. *Total Sales by US Region*\n",
        "\n",
        "**Goal:** Compare total sales across U.S. regions to identify top‑performing markets and areas for targeted growth.\n",
        "\n",
        "**Chart:** Horizontal bar chart\n",
        "\n",
        "**EDA Type:** Univariate comparison\n",
        "\n",
        "**Structure:**  \n",
        "- Bars sorted ascending (Northeast → West) for clear bottom‑to‑top ranking  \n",
        "- X‑axis in millions USD, Y‑axis listing regions  \n"
      ]
    },
    {
      "cell_type": "code",
      "execution_count": 55,
      "metadata": {
        "colab": {
          "base_uri": "https://localhost:8080/",
          "height": 529
        },
        "id": "dWDdf3JMhRg8",
        "outputId": "3c725359-7cf6-4ce8-e5d0-dff5b49bbe78"
      },
      "outputs": [
        {
          "name": "stderr",
          "output_type": "stream",
          "text": [
            "C:\\Users\\anxaa\\AppData\\Local\\Temp\\ipykernel_36996\\762682233.py:15: FutureWarning: \n",
            "\n",
            "Passing `palette` without assigning `hue` is deprecated and will be removed in v0.14.0. Assign the `y` variable to `hue` and set `legend=False` for the same effect.\n",
            "\n",
            "  sns.barplot(\n"
          ]
        },
        {
          "data": {
            "image/png": "[encoded data removed]",
            "text/plain": [
              "<Figure size 1000x400 with 1 Axes>"
            ]
          },
          "metadata": {},
          "output_type": "display_data"
        }
      ],
      "source": [
        "import matplotlib.pyplot as plt\n",
        "import seaborn as sns\n",
        "\n",
        "# 1. Aggregate total sales by region (in millions)\n",
        "region_sales = (\n",
        "    df\n",
        "    .groupby('us_region')['revenue']\n",
        "    .sum()\n",
        "    .sort_values(ascending=False)  # so bars go top→bottom\n",
        "    / 1e6                         # convert to millions\n",
        ")\n",
        "\n",
        "# 2. Plot\n",
        "plt.figure(figsize=(10, 4))\n",
        "sns.barplot(\n",
        "    x=region_sales.values,\n",
        "    y=region_sales.index,\n",
        "    palette='Greens_r'          # dark→light green\n",
        ")\n",
        "\n",
        "# 3. Formatting\n",
        "plt.title('Total Sales by US Region', fontsize=16, pad=12)\n",
        "plt.xlabel('Total Sales (in Millions USD)', fontsize=12)\n",
        "plt.ylabel('US Region', fontsize=12)\n",
        "plt.xticks(rotation=0)\n",
        "sns.despine(left=True, bottom=True)\n",
        "\n",
        "plt.tight_layout()\n",
        "plt.show()\n"
      ]
    },
    {
      "cell_type": "markdown",
      "metadata": {
        "id": "Sdp7OStUlgca"
      },
      "source": [
        "### INSIGHTS —  \n",
        "- **West dominates** with roughly \\$360 M in sales (~35 % of total), underscoring its market leadership.  \n",
        "- **South & Midwest** each contribute over \\$320 M (~32 %), indicating strong, consistent demand across central regions.  \n",
        "- **Northeast trails** at about \\$210 M (~20 %), signaling room for growth and targeted investment.  \n",
        "- **Action:** Focus on closing the Northeast gap with local promotions and strategic partnerships, while maintaining national playbook success.  \n"
      ]
    },
    {
      "cell_type": "markdown",
      "metadata": {
        "id": "HXV2ArpxHw93"
      },
      "source": [
        "### INSIGHTS ---\n",
        "California leads by a wide margin, generating about \\$230 M in revenue and 7500 orders—more than twice the next-highest state.  \n",
        "\n",
        "Illinois, Florida, and Texas form a solid second tier, each posting \\$85–110 M in revenue with 3 600–4 600 orders.  \n",
        "\n",
        "New York and Indiana are mid-pack (≈\\$54–55 M, ~2 500 orders), while Connecticut, Michigan, and Massachusetts trail at \\$35–44 M with 1 600–2 100 orders.  \n",
        "\n",
        "The close alignment between revenue and order counts suggests similar average order values across states; to drive growth, focus on increasing order volume in the mid-tier and raising order size in lower-performing regions.  "
      ]
    },
    {
      "cell_type": "markdown",
      "metadata": {
        "id": "IIYOgZCikwnH"
      },
      "source": [
        "## 🔹 10. *Total Sales by State (Choropleth Map)*\n",
        "\n",
        "**Goal:** Visualize geographic distribution of sales to identify high- and low-performing states and uncover regional gaps.\n",
        "\n",
        "**Chart:** US choropleth map\n",
        "\n",
        "**EDA Type:** Univariate geospatial\n",
        "\n",
        "**Structure:**  \n",
        "- States shaded by total sales (in millions USD) using a blue gradient  \n",
        "- Legend on the right showing sales scale (M USD)  \n",
        "- Hover tooltips display exact sales for each state  \n",
        "- Map scoped to USA for clear regional context  \n"
      ]
    },
    {
      "cell_type": "code",
      "execution_count": 56,
      "metadata": {
        "colab": {
          "base_uri": "https://localhost:8080/",
          "height": 542
        },
        "id": "tY9gR0w5hrSz",
        "outputId": "c3fa16d6-f5a0-4310-899a-387bd3661a39"
      },
      "outputs": [
        {
          "data": {
            "application/vnd.plotly.v1+json": {
              "config": {
                "plotlyServerURL": "https://plot.ly"
              },
              "data": [
                {
                  "coloraxis": "coloraxis",
                  "customdata": [
                    [
                      10.697648800000001
                    ],
                    [
                      9.7546908
                    ],
                    [
                      23.3882461
                    ],
                    [
                      228.785436
                    ],
                    [
                      27.6837769
                    ],
                    [
                      44.251228700000006
                    ],
                    [
                      1.6748593
                    ],
                    [
                      1.2485918999999999
                    ],
                    [
                      90.2046795
                    ],
                    [
                      20.726912300000002
                    ],
                    [
                      13.6645763
                    ],
                    [
                      7.080091
                    ],
                    [
                      111.0509657
                    ],
                    [
                      54.6016902
                    ],
                    [
                      10.222002400000001
                    ],
                    [
                      4.415434
                    ],
                    [
                      10.9962544
                    ],
                    [
                      35.0119421
                    ],
                    [
                      19.361780600000003
                    ],
                    [
                      1.5672841000000002
                    ],
                    [
                      39.0253158
                    ],
                    [
                      24.520928
                    ],
                    [
                      16.878358600000002
                    ],
                    [
                      3.3992651
                    ],
                    [
                      3.4150704
                    ],
                    [
                      24.1230686
                    ],
                    [
                      3.9399819
                    ],
                    [
                      4.9362987
                    ],
                    [
                      2.3823659
                    ],
                    [
                      46.8309565
                    ],
                    [
                      4.9346103
                    ],
                    [
                      12.154898800000002
                    ],
                    [
                      55.53496
                    ],
                    [
                      25.2145187
                    ],
                    [
                      11.673343
                    ],
                    [
                      16.1001067
                    ],
                    [
                      19.228068699999998
                    ],
                    [
                      3.5624101
                    ],
                    [
                      7.3381884
                    ],
                    [
                      1.6812243
                    ],
                    [
                      14.1233655
                    ],
                    [
                      84.011903
                    ],
                    [
                      17.914393
                    ],
                    [
                      21.3850265
                    ],
                    [
                      28.915853300000002
                    ],
                    [
                      14.586503
                    ],
                    [
                      1.7698251
                    ]
                  ],
                  "geo": "geo",
                  "hovertemplate": "state=%{location}<br>Total Sales (M USD)=%{z:.2f}<extra></extra>",
                  "locationmode": "USA-states",
                  "locations": [
                    "AL",
                    "AR",
                    "AZ",
                    "CA",
                    "CO",
                    "CT",
                    "DC",
                    "DE",
                    "FL",
                    "GA",
                    "IA",
                    "ID",
                    "IL",
                    "IN",
                    "KS",
                    "KY",
                    "LA",
                    "MA",
                    "MD",
                    "ME",
                    "MI",
                    "MN",
                    "MO",
                    "MS",
                    "MT",
                    "NC",
                    "ND",
                    "NE",
                    "NH",
                    "NJ",
                    "NM",
                    "NV",
                    "NY",
                    "OH",
                    "OK",
                    "OR",
                    "PA",
                    "RI",
                    "SC",
                    "SD",
                    "TN",
                    "TX",
                    "UT",
                    "VA",
                    "WA",
                    "WI",
                    "WY"
                  ],
                  "name": "",
                  "type": "choropleth",
                  "z": [
                    10.697648800000001,
                    9.7546908,
                    23.3882461,
                    228.785436,
                    27.6837769,
                    44.251228700000006,
                    1.6748593,
                    1.2485918999999999,
                    90.2046795,
                    20.726912300000002,
                    13.6645763,
                    7.080091,
                    111.0509657,
                    54.6016902,
                    10.222002400000001,
                    4.415434,
                    10.9962544,
                    35.0119421,
                    19.361780600000003,
                    1.5672841000000002,
                    39.0253158,
                    24.520928,
                    16.878358600000002,
                    3.3992651,
                    3.4150704,
                    24.1230686,
                    3.9399819,
                    4.9362987,
                    2.3823659,
                    46.8309565,
                    4.9346103,
                    12.154898800000002,
                    55.53496,
                    25.2145187,
                    11.673343,
                    16.1001067,
                    19.228068699999998,
                    3.5624101,
                    7.3381884,
                    1.6812243,
                    14.1233655,
                    84.011903,
                    17.914393,
                    21.3850265,
                    28.915853300000002,
                    14.586503,
                    1.7698251
                  ]
                }
              ],
              "layout": {
                "coloraxis": {
                  "colorbar": {
                    "ticksuffix": "M",
                    "title": {
                      "text": "Sales (M USD)"
                    }
                  },
                  "colorscale": [
                    [
                      0,
                      "rgb(247,251,255)"
                    ],
                    [
                      0.125,
                      "rgb(222,235,247)"
                    ],
                    [
                      0.25,
                      "rgb(198,219,239)"
                    ],
                    [
                      0.375,
                      "rgb(158,202,225)"
                    ],
                    [
                      0.5,
                      "rgb(107,174,214)"
                    ],
                    [
                      0.625,
                      "rgb(66,146,198)"
                    ],
                    [
                      0.75,
                      "rgb(33,113,181)"
                    ],
                    [
                      0.875,
                      "rgb(8,81,156)"
                    ],
                    [
                      1,
                      "rgb(8,48,107)"
                    ]
                  ]
                },
                "geo": {
                  "center": {},
                  "domain": {
                    "x": [
                      0,
                      1
                    ],
                    "y": [
                      0,
                      1
                    ]
                  },
                  "scope": "usa"
                },
                "legend": {
                  "tracegroupgap": 0
                },
                "margin": {
                  "b": 0,
                  "l": 0,
                  "r": 0,
                  "t": 40
                },
                "template": {
                  "data": {
                    "bar": [
                      {
                        "error_x": {
                          "color": "#2a3f5f"
                        },
                        "error_y": {
                          "color": "#2a3f5f"
                        },
                        "marker": {
                          "line": {
                            "color": "#E5ECF6",
                            "width": 0.5
                          },
                          "pattern": {
                            "fillmode": "overlay",
                            "size": 10,
                            "solidity": 0.2
                          }
                        },
                        "type": "bar"
                      }
                    ],
                    "barpolar": [
                      {
                        "marker": {
                          "line": {
                            "color": "#E5ECF6",
                            "width": 0.5
                          },
                          "pattern": {
                            "fillmode": "overlay",
                            "size": 10,
                            "solidity": 0.2
                          }
                        },
                        "type": "barpolar"
                      }
                    ],
                    "carpet": [
                      {
                        "aaxis": {
                          "endlinecolor": "#2a3f5f",
                          "gridcolor": "white",
                          "linecolor": "white",
                          "minorgridcolor": "white",
                          "startlinecolor": "#2a3f5f"
                        },
                        "baxis": {
                          "endlinecolor": "#2a3f5f",
                          "gridcolor": "white",
                          "linecolor": "white",
                          "minorgridcolor": "white",
                          "startlinecolor": "#2a3f5f"
                        },
                        "type": "carpet"
                      }
                    ],
                    "choropleth": [
                      {
                        "colorbar": {
                          "outlinewidth": 0,
                          "ticks": ""
                        },
                        "type": "choropleth"
                      }
                    ],
                    "contour": [
                      {
                        "colorbar": {
                          "outlinewidth": 0,
                          "ticks": ""
                        },
                        "colorscale": [
                          [
                            0,
                            "#0d0887"
                          ],
                          [
                            0.1111111111111111,
                            "#46039f"
                          ],
                          [
                            0.2222222222222222,
                            "#7201a8"
                          ],
                          [
                            0.3333333333333333,
                            "#9c179e"
                          ],
                          [
                            0.4444444444444444,
                            "#bd3786"
                          ],
                          [
                            0.5555555555555556,
                            "#d8576b"
                          ],
                          [
                            0.6666666666666666,
                            "#ed7953"
                          ],
                          [
                            0.7777777777777778,
                            "#fb9f3a"
                          ],
                          [
                            0.8888888888888888,
                            "#fdca26"
                          ],
                          [
                            1,
                            "#f0f921"
                          ]
                        ],
                        "type": "contour"
                      }
                    ],
                    "contourcarpet": [
                      {
                        "colorbar": {
                          "outlinewidth": 0,
                          "ticks": ""
                        },
                        "type": "contourcarpet"
                      }
                    ],
                    "heatmap": [
                      {
                        "colorbar": {
                          "outlinewidth": 0,
                          "ticks": ""
                        },
                        "colorscale": [
                          [
                            0,
                            "#0d0887"
                          ],
                          [
                            0.1111111111111111,
                            "#46039f"
                          ],
                          [
                            0.2222222222222222,
                            "#7201a8"
                          ],
                          [
                            0.3333333333333333,
                            "#9c179e"
                          ],
                          [
                            0.4444444444444444,
                            "#bd3786"
                          ],
                          [
                            0.5555555555555556,
                            "#d8576b"
                          ],
                          [
                            0.6666666666666666,
                            "#ed7953"
                          ],
                          [
                            0.7777777777777778,
                            "#fb9f3a"
                          ],
                          [
                            0.8888888888888888,
                            "#fdca26"
                          ],
                          [
                            1,
                            "#f0f921"
                          ]
                        ],
                        "type": "heatmap"
                      }
                    ],
                    "heatmapgl": [
                      {
                        "colorbar": {
                          "outlinewidth": 0,
                          "ticks": ""
                        },
                        "colorscale": [
                          [
                            0,
                            "#0d0887"
                          ],
                          [
                            0.1111111111111111,
                            "#46039f"
                          ],
                          [
                            0.2222222222222222,
                            "#7201a8"
                          ],
                          [
                            0.3333333333333333,
                            "#9c179e"
                          ],
                          [
                            0.4444444444444444,
                            "#bd3786"
                          ],
                          [
                            0.5555555555555556,
                            "#d8576b"
                          ],
                          [
                            0.6666666666666666,
                            "#ed7953"
                          ],
                          [
                            0.7777777777777778,
                            "#fb9f3a"
                          ],
                          [
                            0.8888888888888888,
                            "#fdca26"
                          ],
                          [
                            1,
                            "#f0f921"
                          ]
                        ],
                        "type": "heatmapgl"
                      }
                    ],
                    "histogram": [
                      {
                        "marker": {
                          "pattern": {
                            "fillmode": "overlay",
                            "size": 10,
                            "solidity": 0.2
                          }
                        },
                        "type": "histogram"
                      }
                    ],
                    "histogram2d": [
                      {
                        "colorbar": {
                          "outlinewidth": 0,
                          "ticks": ""
                        },
                        "colorscale": [
                          [
                            0,
                            "#0d0887"
                          ],
                          [
                            0.1111111111111111,
                            "#46039f"
                          ],
                          [
                            0.2222222222222222,
                            "#7201a8"
                          ],
                          [
                            0.3333333333333333,
                            "#9c179e"
                          ],
                          [
                            0.4444444444444444,
                            "#bd3786"
                          ],
                          [
                            0.5555555555555556,
                            "#d8576b"
                          ],
                          [
                            0.6666666666666666,
                            "#ed7953"
                          ],
                          [
                            0.7777777777777778,
                            "#fb9f3a"
                          ],
                          [
                            0.8888888888888888,
                            "#fdca26"
                          ],
                          [
                            1,
                            "#f0f921"
                          ]
                        ],
                        "type": "histogram2d"
                      }
                    ],
                    "histogram2dcontour": [
                      {
                        "colorbar": {
                          "outlinewidth": 0,
                          "ticks": ""
                        },
                        "colorscale": [
                          [
                            0,
                            "#0d0887"
                          ],
                          [
                            0.1111111111111111,
                            "#46039f"
                          ],
                          [
                            0.2222222222222222,
                            "#7201a8"
                          ],
                          [
                            0.3333333333333333,
                            "#9c179e"
                          ],
                          [
                            0.4444444444444444,
                            "#bd3786"
                          ],
                          [
                            0.5555555555555556,
                            "#d8576b"
                          ],
                          [
                            0.6666666666666666,
                            "#ed7953"
                          ],
                          [
                            0.7777777777777778,
                            "#fb9f3a"
                          ],
                          [
                            0.8888888888888888,
                            "#fdca26"
                          ],
                          [
                            1,
                            "#f0f921"
                          ]
                        ],
                        "type": "histogram2dcontour"
                      }
                    ],
                    "mesh3d": [
                      {
                        "colorbar": {
                          "outlinewidth": 0,
                          "ticks": ""
                        },
                        "type": "mesh3d"
                      }
                    ],
                    "parcoords": [
                      {
                        "line": {
                          "colorbar": {
                            "outlinewidth": 0,
                            "ticks": ""
                          }
                        },
                        "type": "parcoords"
                      }
                    ],
                    "pie": [
                      {
                        "automargin": true,
                        "type": "pie"
                      }
                    ],
                    "scatter": [
                      {
                        "fillpattern": {
                          "fillmode": "overlay",
                          "size": 10,
                          "solidity": 0.2
                        },
                        "type": "scatter"
                      }
                    ],
                    "scatter3d": [
                      {
                        "line": {
                          "colorbar": {
                            "outlinewidth": 0,
                            "ticks": ""
                          }
                        },
                        "marker": {
                          "colorbar": {
                            "outlinewidth": 0,
                            "ticks": ""
                          }
                        },
                        "type": "scatter3d"
                      }
                    ],
                    "scattercarpet": [
                      {
                        "marker": {
                          "colorbar": {
                            "outlinewidth": 0,
                            "ticks": ""
                          }
                        },
                        "type": "scattercarpet"
                      }
                    ],
                    "scattergeo": [
                      {
                        "marker": {
                          "colorbar": {
                            "outlinewidth": 0,
                            "ticks": ""
                          }
                        },
                        "type": "scattergeo"
                      }
                    ],
                    "scattergl": [
                      {
                        "marker": {
                          "colorbar": {
                            "outlinewidth": 0,
                            "ticks": ""
                          }
                        },
                        "type": "scattergl"
                      }
                    ],
                    "scattermapbox": [
                      {
                        "marker": {
                          "colorbar": {
                            "outlinewidth": 0,
                            "ticks": ""
                          }
                        },
                        "type": "scattermapbox"
                      }
                    ],
                    "scatterpolar": [
                      {
                        "marker": {
                          "colorbar": {
                            "outlinewidth": 0,
                            "ticks": ""
                          }
                        },
                        "type": "scatterpolar"
                      }
                    ],
                    "scatterpolargl": [
                      {
                        "marker": {
                          "colorbar": {
                            "outlinewidth": 0,
                            "ticks": ""
                          }
                        },
                        "type": "scatterpolargl"
                      }
                    ],
                    "scatterternary": [
                      {
                        "marker": {
                          "colorbar": {
                            "outlinewidth": 0,
                            "ticks": ""
                          }
                        },
                        "type": "scatterternary"
                      }
                    ],
                    "surface": [
                      {
                        "colorbar": {
                          "outlinewidth": 0,
                          "ticks": ""
                        },
                        "colorscale": [
                          [
                            0,
                            "#0d0887"
                          ],
                          [
                            0.1111111111111111,
                            "#46039f"
                          ],
                          [
                            0.2222222222222222,
                            "#7201a8"
                          ],
                          [
                            0.3333333333333333,
                            "#9c179e"
                          ],
                          [
                            0.4444444444444444,
                            "#bd3786"
                          ],
                          [
                            0.5555555555555556,
                            "#d8576b"
                          ],
                          [
                            0.6666666666666666,
                            "#ed7953"
                          ],
                          [
                            0.7777777777777778,
                            "#fb9f3a"
                          ],
                          [
                            0.8888888888888888,
                            "#fdca26"
                          ],
                          [
                            1,
                            "#f0f921"
                          ]
                        ],
                        "type": "surface"
                      }
                    ],
                    "table": [
                      {
                        "cells": {
                          "fill": {
                            "color": "#EBF0F8"
                          },
                          "line": {
                            "color": "white"
                          }
                        },
                        "header": {
                          "fill": {
                            "color": "#C8D4E3"
                          },
                          "line": {
                            "color": "white"
                          }
                        },
                        "type": "table"
                      }
                    ]
                  },
                  "layout": {
                    "annotationdefaults": {
                      "arrowcolor": "#2a3f5f",
                      "arrowhead": 0,
                      "arrowwidth": 1
                    },
                    "autotypenumbers": "strict",
                    "coloraxis": {
                      "colorbar": {
                        "outlinewidth": 0,
                        "ticks": ""
                      }
                    },
                    "colorscale": {
                      "diverging": [
                        [
                          0,
                          "#8e0152"
                        ],
                        [
                          0.1,
                          "#c51b7d"
                        ],
                        [
                          0.2,
                          "#de77ae"
                        ],
                        [
                          0.3,
                          "#f1b6da"
                        ],
                        [
                          0.4,
                          "#fde0ef"
                        ],
                        [
                          0.5,
                          "#f7f7f7"
                        ],
                        [
                          0.6,
                          "#e6f5d0"
                        ],
                        [
                          0.7,
                          "#b8e186"
                        ],
                        [
                          0.8,
                          "#7fbc41"
                        ],
                        [
                          0.9,
                          "#4d9221"
                        ],
                        [
                          1,
                          "#276419"
                        ]
                      ],
                      "sequential": [
                        [
                          0,
                          "#0d0887"
                        ],
                        [
                          0.1111111111111111,
                          "#46039f"
                        ],
                        [
                          0.2222222222222222,
                          "#7201a8"
                        ],
                        [
                          0.3333333333333333,
                          "#9c179e"
                        ],
                        [
                          0.4444444444444444,
                          "#bd3786"
                        ],
                        [
                          0.5555555555555556,
                          "#d8576b"
                        ],
                        [
                          0.6666666666666666,
                          "#ed7953"
                        ],
                        [
                          0.7777777777777778,
                          "#fb9f3a"
                        ],
                        [
                          0.8888888888888888,
                          "#fdca26"
                        ],
                        [
                          1,
                          "#f0f921"
                        ]
                      ],
                      "sequentialminus": [
                        [
                          0,
                          "#0d0887"
                        ],
                        [
                          0.1111111111111111,
                          "#46039f"
                        ],
                        [
                          0.2222222222222222,
                          "#7201a8"
                        ],
                        [
                          0.3333333333333333,
                          "#9c179e"
                        ],
                        [
                          0.4444444444444444,
                          "#bd3786"
                        ],
                        [
                          0.5555555555555556,
                          "#d8576b"
                        ],
                        [
                          0.6666666666666666,
                          "#ed7953"
                        ],
                        [
                          0.7777777777777778,
                          "#fb9f3a"
                        ],
                        [
                          0.8888888888888888,
                          "#fdca26"
                        ],
                        [
                          1,
                          "#f0f921"
                        ]
                      ]
                    },
                    "colorway": [
                      "#636efa",
                      "#EF553B",
                      "#00cc96",
                      "#ab63fa",
                      "#FFA15A",
                      "#19d3f3",
                      "#FF6692",
                      "#B6E880",
                      "#FF97FF",
                      "#FECB52"
                    ],
                    "font": {
                      "color": "#2a3f5f"
                    },
                    "geo": {
                      "bgcolor": "white",
                      "lakecolor": "white",
                      "landcolor": "#E5ECF6",
                      "showlakes": true,
                      "showland": true,
                      "subunitcolor": "white"
                    },
                    "hoverlabel": {
                      "align": "left"
                    },
                    "hovermode": "closest",
                    "mapbox": {
                      "style": "light"
                    },
                    "paper_bgcolor": "white",
                    "plot_bgcolor": "#E5ECF6",
                    "polar": {
                      "angularaxis": {
                        "gridcolor": "white",
                        "linecolor": "white",
                        "ticks": ""
                      },
                      "bgcolor": "#E5ECF6",
                      "radialaxis": {
                        "gridcolor": "white",
                        "linecolor": "white",
                        "ticks": ""
                      }
                    },
                    "scene": {
                      "xaxis": {
                        "backgroundcolor": "#E5ECF6",
                        "gridcolor": "white",
                        "gridwidth": 2,
                        "linecolor": "white",
                        "showbackground": true,
                        "ticks": "",
                        "zerolinecolor": "white"
                      },
                      "yaxis": {
                        "backgroundcolor": "#E5ECF6",
                        "gridcolor": "white",
                        "gridwidth": 2,
                        "linecolor": "white",
                        "showbackground": true,
                        "ticks": "",
                        "zerolinecolor": "white"
                      },
                      "zaxis": {
                        "backgroundcolor": "#E5ECF6",
                        "gridcolor": "white",
                        "gridwidth": 2,
                        "linecolor": "white",
                        "showbackground": true,
                        "ticks": "",
                        "zerolinecolor": "white"
                      }
                    },
                    "shapedefaults": {
                      "line": {
                        "color": "#2a3f5f"
                      }
                    },
                    "ternary": {
                      "aaxis": {
                        "gridcolor": "white",
                        "linecolor": "white",
                        "ticks": ""
                      },
                      "baxis": {
                        "gridcolor": "white",
                        "linecolor": "white",
                        "ticks": ""
                      },
                      "bgcolor": "#E5ECF6",
                      "caxis": {
                        "gridcolor": "white",
                        "linecolor": "white",
                        "ticks": ""
                      }
                    },
                    "title": {
                      "x": 0.05
                    },
                    "xaxis": {
                      "automargin": true,
                      "gridcolor": "white",
                      "linecolor": "white",
                      "ticks": "",
                      "title": {
                        "standoff": 15
                      },
                      "zerolinecolor": "white",
                      "zerolinewidth": 2
                    },
                    "yaxis": {
                      "automargin": true,
                      "gridcolor": "white",
                      "linecolor": "white",
                      "ticks": "",
                      "title": {
                        "standoff": 15
                      },
                      "zerolinecolor": "white",
                      "zerolinewidth": 2
                    }
                  }
                },
                "title": {
                  "text": "Total Sales by State"
                }
              }
            }
          },
          "metadata": {},
          "output_type": "display_data"
        }
      ],
      "source": [
        "import plotly.express as px\n",
        "\n",
        "# 1. Aggregate revenue by state (in millions)\n",
        "state_sales = (\n",
        "    df\n",
        "    .groupby('state')['revenue']\n",
        "    .sum()\n",
        "    .reset_index()\n",
        ")\n",
        "state_sales['revenue_m'] = state_sales['revenue'] / 1e6  # convert to millions\n",
        "\n",
        "# 2. Plotly choropleth\n",
        "fig = px.choropleth(\n",
        "    state_sales,\n",
        "    locations='state',            # column with state codes\n",
        "    locationmode='USA-states',    # tells Plotly these are US states\n",
        "    color='revenue_m',\n",
        "    scope='usa',\n",
        "    labels={'revenue_m':'Total Sales (M USD)'},\n",
        "    color_continuous_scale='Blues',\n",
        "    hover_data={'revenue_m':':.2f'}  # show 2 decimals\n",
        ")\n",
        "\n",
        "# 3. Layout tuning\n",
        "fig.update_layout(\n",
        "    title_text='Total Sales by State',\n",
        "    margin=dict(l=0, r=0, t=40, b=0),\n",
        "    coloraxis_colorbar=dict(\n",
        "        title='Sales (M USD)',\n",
        "        ticksuffix='M'\n",
        "    )\n",
        ")\n",
        "\n",
        "fig.show()\n"
      ]
    },
    {
      "cell_type": "markdown",
      "metadata": {
        "id": "dZdN3BxZlahQ"
      },
      "source": [
        "### INSIGHTS —  \n",
        "- **California leads** with \\$230 M, followed by Illinois (\\$112 M) and Florida (\\$90 M), forming a dominant top‑tier (> \\$90 M).  \n",
        "- **Mid‑tier states** (e.g., Texas \\$85 M, New York \\$55 M) hold steady performance but trail the top three by 40–145 M.  \n",
        "- **Lower‑tier states** (e.g., New Jersey \\$47 M down to Massachusetts \\$35 M) reveal a gradual drop, indicating uneven market penetration.  \n",
        "- **Action:** Double down on top states with tailored promotions, and launch targeted growth initiatives in under‑penetrated regions to close the gap.  \n"
      ]
    },
    {
      "cell_type": "markdown",
      "metadata": {
        "id": "xFcKu2I2HbAp"
      },
      "source": [
        "## 🔹 11. *Top 10 States by Revenue and Order Count*\n",
        "\n",
        "Goal: Identify highest revenue-generating states and compare their order volumes\n",
        "\n",
        "Chart: Two bar charts\n",
        "\n",
        "EDA Type: Multivariate\n",
        "\n",
        "Structure: First chart shows top 10 states by revenue (in millions), second shows top 10 states by number of orders"
      ]
    },
    {
      "cell_type": "code",
      "execution_count": 57,
      "metadata": {
        "colab": {
          "base_uri": "https://localhost:8080/",
          "height": 681
        },
        "id": "TzJtPu8K-AMF",
        "outputId": "ba44590a-0f03-4fe4-d07c-9e5ca39c0f03"
      },
      "outputs": [
        {
          "name": "stderr",
          "output_type": "stream",
          "text": [
            "C:\\Users\\anxaa\\AppData\\Local\\Temp\\ipykernel_36996\\1452768722.py:21: FutureWarning:\n",
            "\n",
            "\n",
            "\n",
            "Passing `palette` without assigning `hue` is deprecated and will be removed in v0.14.0. Assign the `y` variable to `hue` and set `legend=False` for the same effect.\n",
            "\n",
            "\n",
            "C:\\Users\\anxaa\\AppData\\Local\\Temp\\ipykernel_36996\\1452768722.py:32: FutureWarning:\n",
            "\n",
            "\n",
            "\n",
            "Passing `palette` without assigning `hue` is deprecated and will be removed in v0.14.0. Assign the `y` variable to `hue` and set `legend=False` for the same effect.\n",
            "\n",
            "\n"
          ]
        },
        {
          "data": {
            "image/png": "[encoded data removed]",
            "text/plain": [
              "<Figure size 1600x500 with 2 Axes>"
            ]
          },
          "metadata": {},
          "output_type": "display_data"
        }
      ],
      "source": [
        "# 🔝 Calculate total revenue per customer and select top 10\n",
        "top_rev = (\n",
        "    df.groupby('customer_name')['revenue']\n",
        "      .sum()                        # Sum revenue for each customer\n",
        "      .sort_values(ascending=False) # Sort from highest to lowest\n",
        "      .head(10)                     # Keep top 10 customers\n",
        ")\n",
        "\n",
        "# 🔻 Calculate total revenue per customer and select bottom 10\n",
        "bottom_rev = (\n",
        "    df.groupby('customer_name')['revenue']\n",
        "      .sum()                        # Sum revenue for each customer\n",
        "      .sort_values(ascending=True)  # Sort from lowest to highest\n",
        "      .head(10)                     # Keep bottom 10 customers\n",
        ")\n",
        "\n",
        "# Create a figure with two side-by-side subplots\n",
        "fig, axes = plt.subplots(1, 2, figsize=(16, 5))\n",
        "\n",
        "# Plot 1: Top 10 customers by revenue (converted to millions)\n",
        "sns.barplot(\n",
        "    x=top_rev.values / 1e6,    # X-axis: revenue in millions\n",
        "    y=top_rev.index,           # Y-axis: customer names\n",
        "    palette='Blues_r',         # Color palette (reversed blues)\n",
        "    ax=axes[0]                 # Draw on the left subplot\n",
        ")\n",
        "axes[0].set_title('Top 10 Customers by Revenue', fontsize=14)         # Title\n",
        "axes[0].set_xlabel('Revenue (Million USD)', fontsize=12)              # X-axis label\n",
        "axes[0].set_ylabel('Customer Name', fontsize=12)                      # Y-axis label\n",
        "\n",
        "# Plot 2: Bottom 10 customers by revenue (converted to millions)\n",
        "sns.barplot(\n",
        "    x=bottom_rev.values / 1e6, # X-axis: revenue in millions\n",
        "    y=bottom_rev.index,        # Y-axis: customer names\n",
        "    palette='Reds',            # Color palette (reds)\n",
        "    ax=axes[1]                 # Draw on the right subplot\n",
        ")\n",
        "axes[1].set_title('Bottom 10 Customers by Revenue', fontsize=14)      # Title\n",
        "axes[1].set_xlabel('Revenue (Million USD)', fontsize=12)              # X-axis label\n",
        "axes[1].set_ylabel('Customer Name', fontsize=12)                      # Y-axis label\n",
        "\n",
        "# Adjust layout to prevent overlap and display both charts\n",
        "plt.tight_layout()\n",
        "plt.show()"
      ]
    },
    {
      "cell_type": "markdown",
      "metadata": {
        "id": "lsOG6hCfIORJ"
      },
      "source": [
        "### INSIGHTS ---\n",
        "- Aibox Company tops the list with \\$12.5 M, followed closely by State Ltd (\\$12.2 M), while the 10th-ranked Deseret Group still contributes \\$9.9 M—demonstrating a tight \\$10–12 M top tier.\n",
        "\n",
        "- At the bottom, Johnson Ltd leads its group with \\$5.1 M, down to BB17 Company at \\$4.1 M—roughly half the top customer’s revenue.\n",
        "\n",
        "- This steep drop from ~\\$10 M+ to \\$4–5 M highlights high revenue concentration among the top customers.\n",
        "\n",
        "- Action: prioritize retention and upsell for your top ten, and launch targeted growth campaigns to elevate the lower-revenue cohort.\n"
      ]
    },
    {
      "cell_type": "markdown",
      "metadata": {
        "id": "r7XSUGcDHxBP"
      },
      "source": [
        "## 🔹 12. *Average Profit Margin by Channel*\n",
        "\n",
        "Goal: Compare average profit margins across sales channels to identify the most and least profitable routes\n",
        "\n",
        "Chart: Bar chart\n",
        "\n",
        "EDA Type: Bivariate\n",
        "\n",
        "Structure: Vertical bars with data labels showing margin percentages, sorted descending by channel"
      ]
    },
    {
      "cell_type": "code",
      "execution_count": 58,
      "metadata": {
        "colab": {
          "base_uri": "https://localhost:8080/",
          "height": 494
        },
        "id": "KZIL-1-v2Hle",
        "outputId": "8e9d19c3-d8a0-4de3-8203-c2b6386d22b0"
      },
      "outputs": [
        {
          "name": "stderr",
          "output_type": "stream",
          "text": [
            "C:\\Users\\anxaa\\AppData\\Local\\Temp\\ipykernel_36996\\15237516.py:12: FutureWarning:\n",
            "\n",
            "\n",
            "\n",
            "Passing `palette` without assigning `hue` is deprecated and will be removed in v0.14.0. Assign the `x` variable to `hue` and set `legend=False` for the same effect.\n",
            "\n",
            "\n"
          ]
        },
        {
          "data": {
            "image/png": "[encoded data removed]",
            "text/plain": [
              "<Figure size 600x400 with 1 Axes>"
            ]
          },
          "metadata": {},
          "output_type": "display_data"
        }
      ],
      "source": [
        "# 1️⃣ Compute average profit margin percentage for each channel\n",
        "channel_margin = (\n",
        "    df.groupby('channel')['profit_margin_pct']  # Group by sales channel\n",
        "      .mean()                                  # Calculate mean profit margin %\n",
        "      .sort_values(ascending=False)            # Sort channels from highest to lowest margin\n",
        ")\n",
        "\n",
        "# 2️⃣ Set the figure size for clarity\n",
        "plt.figure(figsize=(6, 4))\n",
        "\n",
        "# 3️⃣ Plot a bar chart of average profit margin by channel\n",
        "ax = sns.barplot(\n",
        "    x=channel_margin.index,    # X-axis: channel names\n",
        "    y=channel_margin.values,   # Y-axis: average profit margin values\n",
        "    palette='coolwarm'         # Color palette for bars\n",
        ")\n",
        "\n",
        "# 4️⃣ Add chart title and axis labels\n",
        "plt.title('Average Profit Margin by Channel')  # Main title\n",
        "plt.xlabel('Sales Channel')                    # X-axis label\n",
        "plt.ylabel('Avg Profit Margin (%)')             # Y-axis label\n",
        "\n",
        "# 5️⃣ Annotate each bar with its exact margin percentage\n",
        "for i, v in enumerate(channel_margin.values):\n",
        "    ax.text(\n",
        "        i,                  # X position (bar index)\n",
        "        v + 0.5,            # Y position (bar height + small offset)\n",
        "        f\"{v:.2f}%\",        # Text label showing percentage with two decimals\n",
        "        ha='center',        # Center-align the text horizontally\n",
        "        fontweight='bold'   # Bold font for readability\n",
        "    )\n",
        "\n",
        "# 6️⃣ Adjust layout to prevent clipping and display the plot\n",
        "plt.tight_layout()\n",
        "plt.show()"
      ]
    },
    {
      "cell_type": "markdown",
      "metadata": {
        "id": "yljaPPjUIBxN"
      },
      "source": [
        "### INSIGHTS ---\n",
        "Export leads with a 37.93 % average margin, closely followed by Distributor (37.56 %) and Wholesale (37.09 %).  \n",
        "\n",
        "The tiny spread (<0.2 %) shows consistently strong profitability across all channels.  \n",
        "\n",
        "This uniformity implies well-controlled costs and pricing power everywhere.  \n",
        "\n",
        "To maximize returns, push volume growth in Export while maintaining efficiency in Distributor and Wholesale.  "
      ]
    },
    {
      "cell_type": "markdown",
      "metadata": {
        "id": "nOhdF5HvIB08"
      },
      "source": [
        "## 🔹 13. *Top and Bottom 10 Customers by Revenue*\n",
        "\n",
        "Goal: Identify your highest- and lowest-revenue customers to tailor engagement strategies\n",
        "\n",
        "Chart: Side-by-side horizontal bar charts\n",
        "\n",
        "EDA Type: Multivariate\n",
        "\n",
        "Structure: Left chart shows top 10 customers by revenue (in millions), right chart shows bottom 10 customers by revenue (in millions)"
      ]
    },
    {
      "cell_type": "code",
      "execution_count": 59,
      "metadata": {
        "colab": {
          "base_uri": "https://localhost:8080/",
          "height": 0
        },
        "id": "GNn0KjGo1td9",
        "outputId": "1578e836-d90c-4844-b399-4f6880eaadc1"
      },
      "outputs": [
        {
          "name": "stderr",
          "output_type": "stream",
          "text": [
            "C:\\Users\\anxaa\\AppData\\Local\\Temp\\ipykernel_36996\\2018115719.py:9: FutureWarning:\n",
            "\n",
            "\n",
            "\n",
            "Passing `palette` without assigning `hue` is deprecated and will be removed in v0.14.0. Assign the `x` variable to `hue` and set `legend=False` for the same effect.\n",
            "\n",
            "\n"
          ]
        },
        {
          "data": {
            "image/png": "[encoded data removed]",
            "text/plain": [
              "<Figure size 1500x400 with 1 Axes>"
            ]
          },
          "metadata": {},
          "output_type": "display_data"
        },
        {
          "name": "stderr",
          "output_type": "stream",
          "text": [
            "C:\\Users\\anxaa\\AppData\\Local\\Temp\\ipykernel_36996\\2018115719.py:22: FutureWarning:\n",
            "\n",
            "\n",
            "\n",
            "Passing `palette` without assigning `hue` is deprecated and will be removed in v0.14.0. Assign the `x` variable to `hue` and set `legend=False` for the same effect.\n",
            "\n",
            "\n"
          ]
        },
        {
          "data": {
            "image/png": "[encoded data removed]",
            "text/plain": [
              "<Figure size 1500x400 with 1 Axes>"
            ]
          },
          "metadata": {},
          "output_type": "display_data"
        }
      ],
      "source": [
        "# Aggregate total revenue and unique order count per state\n",
        "state_rev = df.groupby('state_name').agg(\n",
        "    revenue=('revenue', 'sum'),          # Sum up revenue per state\n",
        "    orders=('order_number', 'nunique')   # Count unique orders per state\n",
        ").sort_values('revenue', ascending=False).head(10)  # Keep top 10 by revenue\n",
        "\n",
        "# Plot 1: Top 10 states by revenue (scaled to millions)\n",
        "plt.figure(figsize=(15, 4))\n",
        "sns.barplot(\n",
        "    x=state_rev.index,                   # X-axis: state names\n",
        "    y=state_rev['revenue'] / 1e6,        # Y-axis: revenue in millions\n",
        "    palette='coolwarm'                   # Color palette\n",
        ")\n",
        "plt.title('Top 10 States by Revenue')     # Chart title\n",
        "plt.xlabel('State')                       # X-axis label\n",
        "plt.ylabel('Total Revenue (Million USD)') # Y-axis label\n",
        "plt.tight_layout()                        # Adjust layout\n",
        "plt.show()                                # Display the plot\n",
        "\n",
        "# Plot 2: Top 10 states by number of orders\n",
        "plt.figure(figsize=(15, 4))\n",
        "sns.barplot(\n",
        "    x=state_rev.index,                   # X-axis: state names\n",
        "    y=state_rev['orders'],               # Y-axis: order counts\n",
        "    palette='coolwarm'                   # Color palette\n",
        ")\n",
        "plt.title('Top 10 States by Number of Orders')  # Chart title\n",
        "plt.xlabel('State')                              # X-axis label\n",
        "plt.ylabel('Order Count')                        # Y-axis label\n",
        "plt.tight_layout()                               # Adjust layout\n",
        "plt.show()                                       # Display the plot"
      ]
    },
    {
      "cell_type": "markdown",
      "metadata": {
        "id": "rOasdrw4IOUp"
      },
      "source": [
        "## 🔹 14. *Customer Segmentation: Revenue vs. Profit Margin*\n",
        "\n",
        "Goal: Segment customers by total revenue and average profit margin, highlighting order volume\n",
        "\n",
        "Chart: Bubble chart (scatter plot with variable point sizes)\n",
        "\n",
        "EDA Type: Multivariate\n",
        "\n",
        "Structure: Scatter points sized by number of orders, plotting revenue vs. margin"
      ]
    },
    {
      "cell_type": "code",
      "execution_count": 60,
      "metadata": {
        "colab": {
          "base_uri": "https://localhost:8080/",
          "height": 507
        },
        "id": "DdXdnlts5jWm",
        "outputId": "85fccbeb-5b6d-487f-8ac4-88b94741234e"
      },
      "outputs": [
        {
          "data": {
            "image/png": "[encoded data removed]",
            "text/plain": [
              "<Figure size 700x500 with 1 Axes>"
            ]
          },
          "metadata": {},
          "output_type": "display_data"
        }
      ],
      "source": [
        "# Aggregate metrics per customer\n",
        "cust_summary = df.groupby('customer_name').agg(\n",
        "    total_revenue=('revenue', 'sum'),\n",
        "    total_profit=('profit', 'sum'),\n",
        "    avg_margin=('profit_margin_pct', 'mean'),\n",
        "    orders=('order_number', 'nunique')\n",
        ")\n",
        "\n",
        "# Convert revenue to millions\n",
        "cust_summary['total_revenue_m'] = cust_summary['total_revenue'] / 1e6\n",
        "\n",
        "plt.figure(figsize=(7, 5))\n",
        "\n",
        "# Bubble chart with revenue in millions\n",
        "sns.scatterplot(\n",
        "    data=cust_summary,\n",
        "    x='total_revenue_m',        # <-- use revenue in millions\n",
        "    y='avg_margin',\n",
        "    size='orders',\n",
        "    sizes=(20, 200),\n",
        "    alpha=0.7\n",
        ")\n",
        "\n",
        "plt.title('Customer Segmentation: Revenue vs. Profit Margin')\n",
        "plt.xlabel('Total Revenue (Million USD)')  # <-- updated label\n",
        "plt.ylabel('Avg Profit Margin (%)')\n",
        "\n",
        "plt.tight_layout()\n",
        "plt.show()\n"
      ]
    },
    {
      "cell_type": "markdown",
      "metadata": {
        "id": "DuQ0YIUaIafE"
      },
      "source": [
        "### INSIGHTS ---\n",
        "\n",
        "- Customers with >\\$10 M in revenue tend to sustain margins between 36–40%, indicating that scale does not significantly erode profitability.\n",
        "- Most customers cluster within the \\$6–10 M range and show stable margins (~34–40%), suggesting consistent pricing in this tier.\n",
        "- Customers below \\$6 M display the widest margin variance (~33–43%), pointing to more volatile cost structures or discounts among smaller accounts.\n",
        "- Bubble size (order count) increases with revenue, but margin levels appear unaffected—reinforcing revenue as the dominant performance driver over order volume.\n"
      ]
    },
    {
      "cell_type": "markdown",
      "metadata": {
        "id": "b9NHEygtIai0"
      },
      "source": [
        "## 🔹 15. *Correlation Heatmap of Numeric Features*\n",
        "\n",
        "Goal: Identify relationships among key numeric variables to uncover potential multicollinearity\n",
        "\n",
        "Chart: Correlation heatmap\n",
        "\n",
        "EDA Type: Multivariate\n",
        "\n",
        "Structure: Annotated heatmap with correlation coefficients for selected numeric columns"
      ]
    },
    {
      "cell_type": "code",
      "execution_count": 61,
      "metadata": {
        "colab": {
          "base_uri": "https://localhost:8080/",
          "height": 406
        },
        "id": "bL83HVyOxRBy",
        "outputId": "a0c21834-889a-4ac7-c77b-7a98850f7085"
      },
      "outputs": [
        {
          "data": {
            "image/png": "[encoded data removed]",
            "text/plain": [
              "<Figure size 600x400 with 2 Axes>"
            ]
          },
          "metadata": {},
          "output_type": "display_data"
        }
      ],
      "source": [
        "# List numeric columns to include in the correlation calculation\n",
        "num_cols = ['quantity', 'unit_price', 'revenue', 'cost', 'profit']\n",
        "\n",
        "# Calculate the correlation matrix for these numeric features\n",
        "corr = df[num_cols].corr()\n",
        "\n",
        "# Set the figure size for clarity\n",
        "plt.figure(figsize=(6,4))\n",
        "\n",
        "# Plot the heatmap with annotations and a viridis colormap\n",
        "sns.heatmap(\n",
        "    corr,           # Data: correlation matrix\n",
        "    annot=True,     # Display the correlation coefficients on the heatmap\n",
        "    fmt=\".2f\",      # Format numbers to two decimal places\n",
        "    cmap='viridis'  # Color palette for the heatmap\n",
        ")\n",
        "\n",
        "# Add title for context\n",
        "plt.title('Correlation Matrix')\n",
        "\n",
        "# Adjust layout to prevent clipping\n",
        "plt.tight_layout()\n",
        "\n",
        "# Display the heatmap\n",
        "plt.show()"
      ]
    },
    {
      "cell_type": "markdown",
      "metadata": {
        "id": "fZH_oaanXcYC"
      },
      "source": [
        "### INSIGHTS ---\n",
        "- **Profit and revenue** are very strongly correlated (0.87), indicating that as sales value increases, profit tends to rise as well.  \n",
        "- **Unit price** is a key driver: it correlates 0.91 with revenue, 0.79 with profit, and 0.94 with cost—highlighting how pricing decisions ripple through both top‑line and expense figures.  \n",
        "- **Cost** shows a strong link to revenue (0.85) but a more moderate tie to profit (0.58), underscoring that while higher sales often bring higher expenses, margins can still vary.  \n",
        "- **Quantity** has virtually no correlation with unit price or cost (≈0.00) and only modest associations with revenue (0.34) and profit (0.30), making volume a secondary factor compared to pricing.  \n"
      ]
    },
    {
      "cell_type": "markdown",
      "metadata": {
        "id": "KHlb3SQCfWOF"
      },
      "source": [
        "# **Saving Pre-Processed Dataframe**"
      ]
    },
    {
      "cell_type": "code",
      "execution_count": 62,
      "metadata": {
        "colab": {
          "base_uri": "https://localhost:8080/",
          "height": 496
        },
        "id": "H_4E-fe7O8m1",
        "outputId": "74c7c5fa-a599-4ec4-9d59-c2d1d7b94277"
      },
      "outputs": [
        {
          "data": {
            "text/html": [
              "<div>\n",
              "<style scoped>\n",
              "    .dataframe tbody tr th:only-of-type {\n",
              "        vertical-align: middle;\n",
              "    }\n",
              "\n",
              "    .dataframe tbody tr th {\n",
              "        vertical-align: top;\n",
              "    }\n",
              "\n",
              "    .dataframe thead th {\n",
              "        text-align: right;\n",
              "    }\n",
              "</style>\n",
              "<table border=\"1\" class=\"dataframe\">\n",
              "  <thead>\n",
              "    <tr style=\"text-align: right;\">\n",
              "      <th></th>\n",
              "      <th>order_number</th>\n",
              "      <th>order_date</th>\n",
              "      <th>customer_name</th>\n",
              "      <th>channel</th>\n",
              "      <th>product_name</th>\n",
              "      <th>quantity</th>\n",
              "      <th>unit_price</th>\n",
              "      <th>revenue</th>\n",
              "      <th>cost</th>\n",
              "      <th>state</th>\n",
              "      <th>state_name</th>\n",
              "      <th>us_region</th>\n",
              "      <th>lat</th>\n",
              "      <th>lon</th>\n",
              "      <th>budget</th>\n",
              "      <th>total_cost</th>\n",
              "      <th>profit</th>\n",
              "      <th>profit_margin_pct</th>\n",
              "      <th>order_month_name</th>\n",
              "      <th>order_month_num</th>\n",
              "      <th>order_month</th>\n",
              "    </tr>\n",
              "  </thead>\n",
              "  <tbody>\n",
              "    <tr>\n",
              "      <th>0</th>\n",
              "      <td>SO - 000225</td>\n",
              "      <td>2014-01-01</td>\n",
              "      <td>Rhynoodle Ltd</td>\n",
              "      <td>Wholesale</td>\n",
              "      <td>Product 27</td>\n",
              "      <td>6</td>\n",
              "      <td>2499.1</td>\n",
              "      <td>14994.6</td>\n",
              "      <td>1824.343</td>\n",
              "      <td>GA</td>\n",
              "      <td>Georgia</td>\n",
              "      <td>South</td>\n",
              "      <td>32.08354</td>\n",
              "      <td>-81.09983</td>\n",
              "      <td>964940.231</td>\n",
              "      <td>10946.058</td>\n",
              "      <td>4048.542</td>\n",
              "      <td>27.0</td>\n",
              "      <td>January</td>\n",
              "      <td>1</td>\n",
              "      <td>2014-01</td>\n",
              "    </tr>\n",
              "    <tr>\n",
              "      <th>1</th>\n",
              "      <td>SO - 0003378</td>\n",
              "      <td>2014-01-01</td>\n",
              "      <td>Thoughtmix Ltd</td>\n",
              "      <td>Distributor</td>\n",
              "      <td>Product 20</td>\n",
              "      <td>11</td>\n",
              "      <td>2351.7</td>\n",
              "      <td>25868.7</td>\n",
              "      <td>1269.918</td>\n",
              "      <td>IN</td>\n",
              "      <td>Indiana</td>\n",
              "      <td>Midwest</td>\n",
              "      <td>39.61366</td>\n",
              "      <td>-86.10665</td>\n",
              "      <td>2067108.120</td>\n",
              "      <td>13969.098</td>\n",
              "      <td>11899.602</td>\n",
              "      <td>46.0</td>\n",
              "      <td>January</td>\n",
              "      <td>1</td>\n",
              "      <td>2014-01</td>\n",
              "    </tr>\n",
              "    <tr>\n",
              "      <th>2</th>\n",
              "      <td>SO - 0005126</td>\n",
              "      <td>2014-01-01</td>\n",
              "      <td>Amerisourc Corp</td>\n",
              "      <td>Wholesale</td>\n",
              "      <td>Product 26</td>\n",
              "      <td>6</td>\n",
              "      <td>978.2</td>\n",
              "      <td>5869.2</td>\n",
              "      <td>684.740</td>\n",
              "      <td>CA</td>\n",
              "      <td>California</td>\n",
              "      <td>West</td>\n",
              "      <td>37.66243</td>\n",
              "      <td>-121.87468</td>\n",
              "      <td>5685138.270</td>\n",
              "      <td>4108.440</td>\n",
              "      <td>1760.760</td>\n",
              "      <td>30.0</td>\n",
              "      <td>January</td>\n",
              "      <td>1</td>\n",
              "      <td>2014-01</td>\n",
              "    </tr>\n",
              "    <tr>\n",
              "      <th>3</th>\n",
              "      <td>SO - 0005614</td>\n",
              "      <td>2014-01-01</td>\n",
              "      <td>Colgate-Pa Group</td>\n",
              "      <td>Export</td>\n",
              "      <td>Product 7</td>\n",
              "      <td>7</td>\n",
              "      <td>2338.3</td>\n",
              "      <td>16368.1</td>\n",
              "      <td>1028.852</td>\n",
              "      <td>IN</td>\n",
              "      <td>Indiana</td>\n",
              "      <td>Midwest</td>\n",
              "      <td>39.16533</td>\n",
              "      <td>-86.52639</td>\n",
              "      <td>889737.555</td>\n",
              "      <td>7201.964</td>\n",
              "      <td>9166.136</td>\n",
              "      <td>56.0</td>\n",
              "      <td>January</td>\n",
              "      <td>1</td>\n",
              "      <td>2014-01</td>\n",
              "    </tr>\n",
              "    <tr>\n",
              "      <th>4</th>\n",
              "      <td>SO - 0005781</td>\n",
              "      <td>2014-01-01</td>\n",
              "      <td>Deseret Group</td>\n",
              "      <td>Wholesale</td>\n",
              "      <td>Product 8</td>\n",
              "      <td>8</td>\n",
              "      <td>2291.4</td>\n",
              "      <td>18331.2</td>\n",
              "      <td>1260.270</td>\n",
              "      <td>CT</td>\n",
              "      <td>Connecticut</td>\n",
              "      <td>Northeast</td>\n",
              "      <td>41.77524</td>\n",
              "      <td>-72.52443</td>\n",
              "      <td>1085037.329</td>\n",
              "      <td>10082.160</td>\n",
              "      <td>8249.040</td>\n",
              "      <td>45.0</td>\n",
              "      <td>January</td>\n",
              "      <td>1</td>\n",
              "      <td>2014-01</td>\n",
              "    </tr>\n",
              "    <tr>\n",
              "      <th>...</th>\n",
              "      <td>...</td>\n",
              "      <td>...</td>\n",
              "      <td>...</td>\n",
              "      <td>...</td>\n",
              "      <td>...</td>\n",
              "      <td>...</td>\n",
              "      <td>...</td>\n",
              "      <td>...</td>\n",
              "      <td>...</td>\n",
              "      <td>...</td>\n",
              "      <td>...</td>\n",
              "      <td>...</td>\n",
              "      <td>...</td>\n",
              "      <td>...</td>\n",
              "      <td>...</td>\n",
              "      <td>...</td>\n",
              "      <td>...</td>\n",
              "      <td>...</td>\n",
              "      <td>...</td>\n",
              "      <td>...</td>\n",
              "      <td>...</td>\n",
              "    </tr>\n",
              "    <tr>\n",
              "      <th>64099</th>\n",
              "      <td>SO - 0007573</td>\n",
              "      <td>2018-02-28</td>\n",
              "      <td>Dazzlesphe Corp</td>\n",
              "      <td>Wholesale</td>\n",
              "      <td>Product 26</td>\n",
              "      <td>12</td>\n",
              "      <td>1815.7</td>\n",
              "      <td>21788.4</td>\n",
              "      <td>980.478</td>\n",
              "      <td>PA</td>\n",
              "      <td>Pennsylvania</td>\n",
              "      <td>Northeast</td>\n",
              "      <td>40.15511</td>\n",
              "      <td>-74.82877</td>\n",
              "      <td>5685138.270</td>\n",
              "      <td>11765.736</td>\n",
              "      <td>10022.664</td>\n",
              "      <td>46.0</td>\n",
              "      <td>February</td>\n",
              "      <td>2</td>\n",
              "      <td>2018-02</td>\n",
              "    </tr>\n",
              "    <tr>\n",
              "      <th>64100</th>\n",
              "      <td>SO - 0007706</td>\n",
              "      <td>2018-02-28</td>\n",
              "      <td>Yombu Corp</td>\n",
              "      <td>Export</td>\n",
              "      <td>Product 21</td>\n",
              "      <td>6</td>\n",
              "      <td>864.3</td>\n",
              "      <td>5185.8</td>\n",
              "      <td>579.081</td>\n",
              "      <td>IL</td>\n",
              "      <td>Illinois</td>\n",
              "      <td>Midwest</td>\n",
              "      <td>42.11030</td>\n",
              "      <td>-88.03424</td>\n",
              "      <td>959899.218</td>\n",
              "      <td>3474.486</td>\n",
              "      <td>1711.314</td>\n",
              "      <td>33.0</td>\n",
              "      <td>February</td>\n",
              "      <td>2</td>\n",
              "      <td>2018-02</td>\n",
              "    </tr>\n",
              "    <tr>\n",
              "      <th>64101</th>\n",
              "      <td>SO - 0007718</td>\n",
              "      <td>2018-02-28</td>\n",
              "      <td>Bath Group</td>\n",
              "      <td>Distributor</td>\n",
              "      <td>Product 13</td>\n",
              "      <td>11</td>\n",
              "      <td>3953.0</td>\n",
              "      <td>43483.0</td>\n",
              "      <td>2648.510</td>\n",
              "      <td>FL</td>\n",
              "      <td>Florida</td>\n",
              "      <td>South</td>\n",
              "      <td>26.24453</td>\n",
              "      <td>-80.20644</td>\n",
              "      <td>3720639.645</td>\n",
              "      <td>29133.610</td>\n",
              "      <td>14349.390</td>\n",
              "      <td>33.0</td>\n",
              "      <td>February</td>\n",
              "      <td>2</td>\n",
              "      <td>2018-02</td>\n",
              "    </tr>\n",
              "    <tr>\n",
              "      <th>64102</th>\n",
              "      <td>SO - 0008084</td>\n",
              "      <td>2018-02-28</td>\n",
              "      <td>Linklinks Ltd</td>\n",
              "      <td>Distributor</td>\n",
              "      <td>Product 20</td>\n",
              "      <td>7</td>\n",
              "      <td>3959.7</td>\n",
              "      <td>27717.9</td>\n",
              "      <td>2930.178</td>\n",
              "      <td>NY</td>\n",
              "      <td>New York</td>\n",
              "      <td>Northeast</td>\n",
              "      <td>42.91002</td>\n",
              "      <td>-78.74182</td>\n",
              "      <td>2067108.120</td>\n",
              "      <td>20511.246</td>\n",
              "      <td>7206.654</td>\n",
              "      <td>26.0</td>\n",
              "      <td>February</td>\n",
              "      <td>2</td>\n",
              "      <td>2018-02</td>\n",
              "    </tr>\n",
              "    <tr>\n",
              "      <th>64103</th>\n",
              "      <td>SO - 0008654</td>\n",
              "      <td>2018-02-28</td>\n",
              "      <td>SAFEWAY Ltd</td>\n",
              "      <td>Distributor</td>\n",
              "      <td>Product 15</td>\n",
              "      <td>8</td>\n",
              "      <td>998.3</td>\n",
              "      <td>7986.4</td>\n",
              "      <td>848.555</td>\n",
              "      <td>OR</td>\n",
              "      <td>Oregon</td>\n",
              "      <td>West</td>\n",
              "      <td>45.48706</td>\n",
              "      <td>-122.80371</td>\n",
              "      <td>3299478.315</td>\n",
              "      <td>6788.440</td>\n",
              "      <td>1197.960</td>\n",
              "      <td>15.0</td>\n",
              "      <td>February</td>\n",
              "      <td>2</td>\n",
              "      <td>2018-02</td>\n",
              "    </tr>\n",
              "  </tbody>\n",
              "</table>\n",
              "<p>64104 rows × 21 columns</p>\n",
              "</div>"
            ],
            "text/plain": [
              "       order_number order_date     customer_name      channel product_name  \\\n",
              "0       SO - 000225 2014-01-01     Rhynoodle Ltd    Wholesale   Product 27   \n",
              "1      SO - 0003378 2014-01-01    Thoughtmix Ltd  Distributor   Product 20   \n",
              "2      SO - 0005126 2014-01-01   Amerisourc Corp    Wholesale   Product 26   \n",
              "3      SO - 0005614 2014-01-01  Colgate-Pa Group       Export    Product 7   \n",
              "4      SO - 0005781 2014-01-01     Deseret Group    Wholesale    Product 8   \n",
              "...             ...        ...               ...          ...          ...   \n",
              "64099  SO - 0007573 2018-02-28   Dazzlesphe Corp    Wholesale   Product 26   \n",
              "64100  SO - 0007706 2018-02-28        Yombu Corp       Export   Product 21   \n",
              "64101  SO - 0007718 2018-02-28        Bath Group  Distributor   Product 13   \n",
              "64102  SO - 0008084 2018-02-28     Linklinks Ltd  Distributor   Product 20   \n",
              "64103  SO - 0008654 2018-02-28       SAFEWAY Ltd  Distributor   Product 15   \n",
              "\n",
              "       quantity  unit_price  revenue      cost state    state_name  us_region  \\\n",
              "0             6      2499.1  14994.6  1824.343    GA       Georgia      South   \n",
              "1            11      2351.7  25868.7  1269.918    IN       Indiana    Midwest   \n",
              "2             6       978.2   5869.2   684.740    CA    California       West   \n",
              "3             7      2338.3  16368.1  1028.852    IN       Indiana    Midwest   \n",
              "4             8      2291.4  18331.2  1260.270    CT   Connecticut  Northeast   \n",
              "...         ...         ...      ...       ...   ...           ...        ...   \n",
              "64099        12      1815.7  21788.4   980.478    PA  Pennsylvania  Northeast   \n",
              "64100         6       864.3   5185.8   579.081    IL      Illinois    Midwest   \n",
              "64101        11      3953.0  43483.0  2648.510    FL       Florida      South   \n",
              "64102         7      3959.7  27717.9  2930.178    NY      New York  Northeast   \n",
              "64103         8       998.3   7986.4   848.555    OR        Oregon       West   \n",
              "\n",
              "            lat        lon       budget  total_cost     profit  \\\n",
              "0      32.08354  -81.09983   964940.231   10946.058   4048.542   \n",
              "1      39.61366  -86.10665  2067108.120   13969.098  11899.602   \n",
              "2      37.66243 -121.87468  5685138.270    4108.440   1760.760   \n",
              "3      39.16533  -86.52639   889737.555    7201.964   9166.136   \n",
              "4      41.77524  -72.52443  1085037.329   10082.160   8249.040   \n",
              "...         ...        ...          ...         ...        ...   \n",
              "64099  40.15511  -74.82877  5685138.270   11765.736  10022.664   \n",
              "64100  42.11030  -88.03424   959899.218    3474.486   1711.314   \n",
              "64101  26.24453  -80.20644  3720639.645   29133.610  14349.390   \n",
              "64102  42.91002  -78.74182  2067108.120   20511.246   7206.654   \n",
              "64103  45.48706 -122.80371  3299478.315    6788.440   1197.960   \n",
              "\n",
              "       profit_margin_pct order_month_name  order_month_num order_month  \n",
              "0                   27.0          January                1     2014-01  \n",
              "1                   46.0          January                1     2014-01  \n",
              "2                   30.0          January                1     2014-01  \n",
              "3                   56.0          January                1     2014-01  \n",
              "4                   45.0          January                1     2014-01  \n",
              "...                  ...              ...              ...         ...  \n",
              "64099               46.0         February                2     2018-02  \n",
              "64100               33.0         February                2     2018-02  \n",
              "64101               33.0         February                2     2018-02  \n",
              "64102               26.0         February                2     2018-02  \n",
              "64103               15.0         February                2     2018-02  \n",
              "\n",
              "[64104 rows x 21 columns]"
            ]
          },
          "execution_count": 62,
          "metadata": {},
          "output_type": "execute_result"
        }
      ],
      "source": [
        "df"
      ]
    },
    {
      "cell_type": "code",
      "execution_count": 63,
      "metadata": {
        "id": "7Y1ROEvHnpgL"
      },
      "outputs": [],
      "source": [
        "# Export Final DataFrame to CSV\n",
        "df.to_csv('Sales_data(EDA Exported).csv', index=False)"
      ]
    },
    {
      "cell_type": "markdown",
      "metadata": {
        "id": "URai8ryJXccP"
      },
      "source": [
        "# 🔍 **Key Insights**  "
      ]
    },
    {
      "cell_type": "markdown",
      "metadata": {
        "id": "EjQi3wEGXcf5"
      },
      "source": [
        "\n",
        "\n",
        "- **Monthly Revenue Cycle:**  \n",
        "  Revenue stays stable between ≈\\$23M–\\$26.5M across 2014–2017, with no consistent seasonal spikes. Sharpest drop (≈\\$21.2M) occurs in early 2017, indicating a possible one-time disruption.\n",
        "\n",
        "- **Channel Mix:**  \n",
        "  Wholesale: 54%. Distributors: 31%. Exports: 15% — opportunity to scale international presence.\n",
        "\n",
        "- **Top Products (Revenue):**  \n",
        "  Product 26: \\$118M; Product 25: \\$110M; Product 13: \\$78M. Mid-tier: \\$68–75M; bottom performers: \\$52–57M.\n",
        "\n",
        "- **Profit Margins:**  \n",
        "  Profit margins range broadly from ≈18% to ≈60%, with no strong correlation to unit price. Dense horizontal bands suggest standardized pricing strategies across tiers.\n",
        "\n",
        "- **Seasonal Volume:**  \n",
        "  No strong monthly pattern, but slight volume uptick appears around May–June. Early 2017 dip (≈\\$21.2M) may require investigation.\n",
        "\n",
        "- **Regional Performance:**  \n",
        "  California leads: ≈\\$230M Revenue & 7500+ orders. Illinois/Florida/Texas: ≈\\$85M–$110M & ≈3500–4500 orders. NY/Indiana: ≈\\$54M & 2000+ orders.\n",
        "\n"
      ]
    },
    {
      "cell_type": "markdown",
      "metadata": {
        "id": "40a59YldXcjc"
      },
      "source": [
        "# 💡 **Recommendations**  "
      ]
    },
    {
      "cell_type": "markdown",
      "metadata": {
        "id": "cu6LVLzLfDZ6"
      },
      "source": [
        "1. **Outlier Strategy:** Exclude or formalize bulk-order and promotional SKUs when calculating averages.  \n",
        "2. **Margin Uplift:** Apply top-product pricing levers to mid/low tiers; cut costs on underperformers.  \n",
        "3. **Export Growth:** Invest in targeted overseas marketing and distributor partnerships.  \n",
        "4. **Seasonal Planning:** Shift spend toward January trough and May–June peak; investigate the 2017 anomaly.  \n",
        "5. **Dashboard Prep:** Build aggregated tables for time series, channel mix, and product performance for Power BI.  "
      ]
    }
  ],
  "metadata": {
    "colab": {
      "collapsed_sections": [
        "C3OIIuNe9pCa",
        "nbO5GECJAW8n",
        "lJLxjQfYefC2",
        "zX81JsXmAKg7",
        "hlDdH23WAKkD",
        "QLPeZW8jA3fu",
        "UvYDZXyzBB78",
        "tjjhbX5-AKH5",
        "vZStXPgBEmcQ",
        "wCw5lkZXFj6G",
        "9VWBI1jMF--5",
        "Je5JOr0rGZ69",
        "i9ZlnsdZGxFp",
        "FChWTe_hG6AL",
        "0R8ce2EnHNhD",
        "uDYlVVwekRqN",
        "xFcKu2I2HbAp",
        "r7XSUGcDHxBP",
        "nOhdF5HvIB08",
        "rOasdrw4IOUp",
        "b9NHEygtIai0",
        "URai8ryJXccP",
        "40a59YldXcjc"
      ],
      "provenance": []
    },
    "kernelspec": {
      "display_name": "base",
      "language": "python",
      "name": "python3"
    },
    "language_info": {
      "codemirror_mode": {
        "name": "ipython",
        "version": 3
      },
      "file_extension": ".py",
      "mimetype": "text/x-python",
      "name": "python",
      "nbconvert_exporter": "python",
      "pygments_lexer": "ipython3",
      "version": "3.12.7"
    }
  },
  "nbformat": 4,
  "nbformat_minor": 0
}
